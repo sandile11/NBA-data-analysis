{
 "cells": [
  {
   "cell_type": "markdown",
   "metadata": {},
   "source": [
    "## NBA Data Analysis\n",
    "\n",
    "**Sandile Shongwe 1236067**\n",
    "\n",
    "This notebook is on NBA data, it is an exploratory journey into some of the common NBA notions"
   ]
  },
  {
   "cell_type": "markdown",
   "metadata": {},
   "source": [
    "#### Reading and validating data"
   ]
  },
  {
   "cell_type": "code",
   "execution_count": 56,
   "metadata": {},
   "outputs": [
    {
     "name": "stdout",
     "output_type": "stream",
     "text": [
      "Exception reporting mode: Plain\n"
     ]
    }
   ],
   "source": [
    "import matplotlib.pyplot as plt\n",
    "import numpy as np\n",
    "import pandas as pd\n",
    "import seaborn as sns\n",
    "import csv\n",
    "import scipy.stats as stats\n",
    "%matplotlib inline\n",
    "%xmode plain\n",
    "sns.set()"
   ]
  },
  {
   "cell_type": "code",
   "execution_count": 57,
   "metadata": {},
   "outputs": [],
   "source": [
    "df = pd.read_csv('Seasons_Stats.csv')\n",
    "players = pd.read_csv('Players.csv')"
   ]
  },
  {
   "cell_type": "code",
   "execution_count": 58,
   "metadata": {},
   "outputs": [
    {
     "data": {
      "text/html": [
       "<div>\n",
       "<style scoped>\n",
       "    .dataframe tbody tr th:only-of-type {\n",
       "        vertical-align: middle;\n",
       "    }\n",
       "\n",
       "    .dataframe tbody tr th {\n",
       "        vertical-align: top;\n",
       "    }\n",
       "\n",
       "    .dataframe thead th {\n",
       "        text-align: right;\n",
       "    }\n",
       "</style>\n",
       "<table border=\"1\" class=\"dataframe\">\n",
       "  <thead>\n",
       "    <tr style=\"text-align: right;\">\n",
       "      <th></th>\n",
       "      <th>Year</th>\n",
       "      <th>Player</th>\n",
       "      <th>Pos</th>\n",
       "      <th>Age</th>\n",
       "      <th>Tm</th>\n",
       "      <th>G</th>\n",
       "      <th>GS</th>\n",
       "      <th>MP</th>\n",
       "      <th>PER</th>\n",
       "      <th>TS%</th>\n",
       "      <th>...</th>\n",
       "      <th>FT%</th>\n",
       "      <th>ORB</th>\n",
       "      <th>DRB</th>\n",
       "      <th>TRB</th>\n",
       "      <th>AST</th>\n",
       "      <th>STL</th>\n",
       "      <th>BLK</th>\n",
       "      <th>TOV</th>\n",
       "      <th>PF</th>\n",
       "      <th>PTS</th>\n",
       "    </tr>\n",
       "  </thead>\n",
       "  <tbody>\n",
       "    <tr>\n",
       "      <th>0</th>\n",
       "      <td>1950.0</td>\n",
       "      <td>Curly Armstrong</td>\n",
       "      <td>G-F</td>\n",
       "      <td>31.0</td>\n",
       "      <td>FTW</td>\n",
       "      <td>63.0</td>\n",
       "      <td>NaN</td>\n",
       "      <td>NaN</td>\n",
       "      <td>NaN</td>\n",
       "      <td>0.368</td>\n",
       "      <td>...</td>\n",
       "      <td>0.705</td>\n",
       "      <td>NaN</td>\n",
       "      <td>NaN</td>\n",
       "      <td>NaN</td>\n",
       "      <td>176.0</td>\n",
       "      <td>NaN</td>\n",
       "      <td>NaN</td>\n",
       "      <td>NaN</td>\n",
       "      <td>217.0</td>\n",
       "      <td>458.0</td>\n",
       "    </tr>\n",
       "    <tr>\n",
       "      <th>1</th>\n",
       "      <td>1950.0</td>\n",
       "      <td>Cliff Barker</td>\n",
       "      <td>SG</td>\n",
       "      <td>29.0</td>\n",
       "      <td>INO</td>\n",
       "      <td>49.0</td>\n",
       "      <td>NaN</td>\n",
       "      <td>NaN</td>\n",
       "      <td>NaN</td>\n",
       "      <td>0.435</td>\n",
       "      <td>...</td>\n",
       "      <td>0.708</td>\n",
       "      <td>NaN</td>\n",
       "      <td>NaN</td>\n",
       "      <td>NaN</td>\n",
       "      <td>109.0</td>\n",
       "      <td>NaN</td>\n",
       "      <td>NaN</td>\n",
       "      <td>NaN</td>\n",
       "      <td>99.0</td>\n",
       "      <td>279.0</td>\n",
       "    </tr>\n",
       "    <tr>\n",
       "      <th>2</th>\n",
       "      <td>1950.0</td>\n",
       "      <td>Leo Barnhorst</td>\n",
       "      <td>SF</td>\n",
       "      <td>25.0</td>\n",
       "      <td>CHS</td>\n",
       "      <td>67.0</td>\n",
       "      <td>NaN</td>\n",
       "      <td>NaN</td>\n",
       "      <td>NaN</td>\n",
       "      <td>0.394</td>\n",
       "      <td>...</td>\n",
       "      <td>0.698</td>\n",
       "      <td>NaN</td>\n",
       "      <td>NaN</td>\n",
       "      <td>NaN</td>\n",
       "      <td>140.0</td>\n",
       "      <td>NaN</td>\n",
       "      <td>NaN</td>\n",
       "      <td>NaN</td>\n",
       "      <td>192.0</td>\n",
       "      <td>438.0</td>\n",
       "    </tr>\n",
       "    <tr>\n",
       "      <th>3</th>\n",
       "      <td>1950.0</td>\n",
       "      <td>Ed Bartels</td>\n",
       "      <td>F</td>\n",
       "      <td>24.0</td>\n",
       "      <td>TOT</td>\n",
       "      <td>15.0</td>\n",
       "      <td>NaN</td>\n",
       "      <td>NaN</td>\n",
       "      <td>NaN</td>\n",
       "      <td>0.312</td>\n",
       "      <td>...</td>\n",
       "      <td>0.559</td>\n",
       "      <td>NaN</td>\n",
       "      <td>NaN</td>\n",
       "      <td>NaN</td>\n",
       "      <td>20.0</td>\n",
       "      <td>NaN</td>\n",
       "      <td>NaN</td>\n",
       "      <td>NaN</td>\n",
       "      <td>29.0</td>\n",
       "      <td>63.0</td>\n",
       "    </tr>\n",
       "    <tr>\n",
       "      <th>4</th>\n",
       "      <td>1950.0</td>\n",
       "      <td>Ed Bartels</td>\n",
       "      <td>F</td>\n",
       "      <td>24.0</td>\n",
       "      <td>DNN</td>\n",
       "      <td>13.0</td>\n",
       "      <td>NaN</td>\n",
       "      <td>NaN</td>\n",
       "      <td>NaN</td>\n",
       "      <td>0.308</td>\n",
       "      <td>...</td>\n",
       "      <td>0.548</td>\n",
       "      <td>NaN</td>\n",
       "      <td>NaN</td>\n",
       "      <td>NaN</td>\n",
       "      <td>20.0</td>\n",
       "      <td>NaN</td>\n",
       "      <td>NaN</td>\n",
       "      <td>NaN</td>\n",
       "      <td>27.0</td>\n",
       "      <td>59.0</td>\n",
       "    </tr>\n",
       "  </tbody>\n",
       "</table>\n",
       "<p>5 rows × 52 columns</p>\n",
       "</div>"
      ],
      "text/plain": [
       "     Year           Player  Pos   Age   Tm     G  GS  MP  PER    TS%  ...    \\\n",
       "0  1950.0  Curly Armstrong  G-F  31.0  FTW  63.0 NaN NaN  NaN  0.368  ...     \n",
       "1  1950.0     Cliff Barker   SG  29.0  INO  49.0 NaN NaN  NaN  0.435  ...     \n",
       "2  1950.0    Leo Barnhorst   SF  25.0  CHS  67.0 NaN NaN  NaN  0.394  ...     \n",
       "3  1950.0       Ed Bartels    F  24.0  TOT  15.0 NaN NaN  NaN  0.312  ...     \n",
       "4  1950.0       Ed Bartels    F  24.0  DNN  13.0 NaN NaN  NaN  0.308  ...     \n",
       "\n",
       "     FT%  ORB  DRB  TRB    AST  STL  BLK  TOV     PF    PTS  \n",
       "0  0.705  NaN  NaN  NaN  176.0  NaN  NaN  NaN  217.0  458.0  \n",
       "1  0.708  NaN  NaN  NaN  109.0  NaN  NaN  NaN   99.0  279.0  \n",
       "2  0.698  NaN  NaN  NaN  140.0  NaN  NaN  NaN  192.0  438.0  \n",
       "3  0.559  NaN  NaN  NaN   20.0  NaN  NaN  NaN   29.0   63.0  \n",
       "4  0.548  NaN  NaN  NaN   20.0  NaN  NaN  NaN   27.0   59.0  \n",
       "\n",
       "[5 rows x 52 columns]"
      ]
     },
     "execution_count": 58,
     "metadata": {},
     "output_type": "execute_result"
    }
   ],
   "source": [
    "df = df.loc[:, ~df.columns.str.contains('^Unnamed')] #drop unnamed column\n",
    "df.head()"
   ]
  },
  {
   "cell_type": "code",
   "execution_count": 59,
   "metadata": {},
   "outputs": [
    {
     "data": {
      "text/html": [
       "<div>\n",
       "<style scoped>\n",
       "    .dataframe tbody tr th:only-of-type {\n",
       "        vertical-align: middle;\n",
       "    }\n",
       "\n",
       "    .dataframe tbody tr th {\n",
       "        vertical-align: top;\n",
       "    }\n",
       "\n",
       "    .dataframe thead th {\n",
       "        text-align: right;\n",
       "    }\n",
       "</style>\n",
       "<table border=\"1\" class=\"dataframe\">\n",
       "  <thead>\n",
       "    <tr style=\"text-align: right;\">\n",
       "      <th></th>\n",
       "      <th>Year</th>\n",
       "      <th>Player</th>\n",
       "      <th>Pos</th>\n",
       "      <th>Age</th>\n",
       "      <th>Tm</th>\n",
       "      <th>G</th>\n",
       "      <th>GS</th>\n",
       "      <th>MP</th>\n",
       "      <th>PER</th>\n",
       "      <th>TS%</th>\n",
       "      <th>...</th>\n",
       "      <th>DRB</th>\n",
       "      <th>TRB</th>\n",
       "      <th>AST</th>\n",
       "      <th>STL</th>\n",
       "      <th>BLK</th>\n",
       "      <th>TOV</th>\n",
       "      <th>PF</th>\n",
       "      <th>PTS</th>\n",
       "      <th>height</th>\n",
       "      <th>weight</th>\n",
       "    </tr>\n",
       "  </thead>\n",
       "  <tbody>\n",
       "    <tr>\n",
       "      <th>0</th>\n",
       "      <td>1950.0</td>\n",
       "      <td>Curly Armstrong</td>\n",
       "      <td>G-F</td>\n",
       "      <td>31.0</td>\n",
       "      <td>FTW</td>\n",
       "      <td>63.0</td>\n",
       "      <td>NaN</td>\n",
       "      <td>NaN</td>\n",
       "      <td>NaN</td>\n",
       "      <td>0.368</td>\n",
       "      <td>...</td>\n",
       "      <td>NaN</td>\n",
       "      <td>NaN</td>\n",
       "      <td>176.0</td>\n",
       "      <td>NaN</td>\n",
       "      <td>NaN</td>\n",
       "      <td>NaN</td>\n",
       "      <td>217.0</td>\n",
       "      <td>458.0</td>\n",
       "      <td>180.0</td>\n",
       "      <td>77.0</td>\n",
       "    </tr>\n",
       "    <tr>\n",
       "      <th>1</th>\n",
       "      <td>1950.0</td>\n",
       "      <td>Cliff Barker</td>\n",
       "      <td>SG</td>\n",
       "      <td>29.0</td>\n",
       "      <td>INO</td>\n",
       "      <td>49.0</td>\n",
       "      <td>NaN</td>\n",
       "      <td>NaN</td>\n",
       "      <td>NaN</td>\n",
       "      <td>0.435</td>\n",
       "      <td>...</td>\n",
       "      <td>NaN</td>\n",
       "      <td>NaN</td>\n",
       "      <td>109.0</td>\n",
       "      <td>NaN</td>\n",
       "      <td>NaN</td>\n",
       "      <td>NaN</td>\n",
       "      <td>99.0</td>\n",
       "      <td>279.0</td>\n",
       "      <td>188.0</td>\n",
       "      <td>83.0</td>\n",
       "    </tr>\n",
       "    <tr>\n",
       "      <th>2</th>\n",
       "      <td>1950.0</td>\n",
       "      <td>Leo Barnhorst</td>\n",
       "      <td>SF</td>\n",
       "      <td>25.0</td>\n",
       "      <td>CHS</td>\n",
       "      <td>67.0</td>\n",
       "      <td>NaN</td>\n",
       "      <td>NaN</td>\n",
       "      <td>NaN</td>\n",
       "      <td>0.394</td>\n",
       "      <td>...</td>\n",
       "      <td>NaN</td>\n",
       "      <td>NaN</td>\n",
       "      <td>140.0</td>\n",
       "      <td>NaN</td>\n",
       "      <td>NaN</td>\n",
       "      <td>NaN</td>\n",
       "      <td>192.0</td>\n",
       "      <td>438.0</td>\n",
       "      <td>193.0</td>\n",
       "      <td>86.0</td>\n",
       "    </tr>\n",
       "    <tr>\n",
       "      <th>3</th>\n",
       "      <td>1950.0</td>\n",
       "      <td>Ed Bartels</td>\n",
       "      <td>F</td>\n",
       "      <td>24.0</td>\n",
       "      <td>TOT</td>\n",
       "      <td>15.0</td>\n",
       "      <td>NaN</td>\n",
       "      <td>NaN</td>\n",
       "      <td>NaN</td>\n",
       "      <td>0.312</td>\n",
       "      <td>...</td>\n",
       "      <td>NaN</td>\n",
       "      <td>NaN</td>\n",
       "      <td>20.0</td>\n",
       "      <td>NaN</td>\n",
       "      <td>NaN</td>\n",
       "      <td>NaN</td>\n",
       "      <td>29.0</td>\n",
       "      <td>63.0</td>\n",
       "      <td>196.0</td>\n",
       "      <td>88.0</td>\n",
       "    </tr>\n",
       "    <tr>\n",
       "      <th>4</th>\n",
       "      <td>1950.0</td>\n",
       "      <td>Ed Bartels</td>\n",
       "      <td>F</td>\n",
       "      <td>24.0</td>\n",
       "      <td>DNN</td>\n",
       "      <td>13.0</td>\n",
       "      <td>NaN</td>\n",
       "      <td>NaN</td>\n",
       "      <td>NaN</td>\n",
       "      <td>0.308</td>\n",
       "      <td>...</td>\n",
       "      <td>NaN</td>\n",
       "      <td>NaN</td>\n",
       "      <td>20.0</td>\n",
       "      <td>NaN</td>\n",
       "      <td>NaN</td>\n",
       "      <td>NaN</td>\n",
       "      <td>27.0</td>\n",
       "      <td>59.0</td>\n",
       "      <td>196.0</td>\n",
       "      <td>88.0</td>\n",
       "    </tr>\n",
       "  </tbody>\n",
       "</table>\n",
       "<p>5 rows × 54 columns</p>\n",
       "</div>"
      ],
      "text/plain": [
       "     Year           Player  Pos   Age   Tm     G  GS  MP  PER    TS%   ...    \\\n",
       "0  1950.0  Curly Armstrong  G-F  31.0  FTW  63.0 NaN NaN  NaN  0.368   ...     \n",
       "1  1950.0     Cliff Barker   SG  29.0  INO  49.0 NaN NaN  NaN  0.435   ...     \n",
       "2  1950.0    Leo Barnhorst   SF  25.0  CHS  67.0 NaN NaN  NaN  0.394   ...     \n",
       "3  1950.0       Ed Bartels    F  24.0  TOT  15.0 NaN NaN  NaN  0.312   ...     \n",
       "4  1950.0       Ed Bartels    F  24.0  DNN  13.0 NaN NaN  NaN  0.308   ...     \n",
       "\n",
       "   DRB  TRB    AST  STL  BLK  TOV     PF    PTS  height  weight  \n",
       "0  NaN  NaN  176.0  NaN  NaN  NaN  217.0  458.0   180.0    77.0  \n",
       "1  NaN  NaN  109.0  NaN  NaN  NaN   99.0  279.0   188.0    83.0  \n",
       "2  NaN  NaN  140.0  NaN  NaN  NaN  192.0  438.0   193.0    86.0  \n",
       "3  NaN  NaN   20.0  NaN  NaN  NaN   29.0   63.0   196.0    88.0  \n",
       "4  NaN  NaN   20.0  NaN  NaN  NaN   27.0   59.0   196.0    88.0  \n",
       "\n",
       "[5 rows x 54 columns]"
      ]
     },
     "execution_count": 59,
     "metadata": {},
     "output_type": "execute_result"
    }
   ],
   "source": [
    "#adding player heights from a different file\n",
    "df = df[pd.isnull(df.Player) == 0]\n",
    "df['height'] = df.Player.apply(lambda x: players.height[players.Player == x].values[0])\n",
    "df['weight'] = df.Player.apply(lambda x: players.weight[players.Player == x].values[0])\n",
    "df.head()"
   ]
  },
  {
   "cell_type": "code",
   "execution_count": 60,
   "metadata": {},
   "outputs": [
    {
     "name": "stdout",
     "output_type": "stream",
     "text": [
      "The shortest people in NBA history were ['Manute Bol' 'Gheorghe Muresan']  at  231.0 cm\n"
     ]
    }
   ],
   "source": [
    "tallest = df['height'].max()\n",
    "df[df.height == tallest].Player.unique()\n",
    "print(\"The shortest people in NBA history were\", df[df.height == tallest].Player.unique() ,\" at \", tallest,\"cm\")"
   ]
  },
  {
   "cell_type": "code",
   "execution_count": 61,
   "metadata": {},
   "outputs": [
    {
     "name": "stdout",
     "output_type": "stream",
     "text": [
      "The shortest people in NBA history were ['Muggsy Bogues']  at  160.0 cm\n"
     ]
    }
   ],
   "source": [
    "shortest = df['height'].min()\n",
    "print(\"The shortest people in NBA history were\", df[df.height == shortest].Player.unique() ,\" at \", shortest,\"cm\")"
   ]
  },
  {
   "cell_type": "code",
   "execution_count": 62,
   "metadata": {},
   "outputs": [
    {
     "name": "stdout",
     "output_type": "stream",
     "text": [
      "The biggest person in NBA history was ['Sim Bhullar']  and weighed  163.0 kg\n"
     ]
    }
   ],
   "source": [
    "weight = df['weight'].max()\n",
    "print(\"The biggest person in NBA history was\", df[df.weight == weight].Player.unique(), \" and weighed \", weight ,\"kg\")"
   ]
  },
  {
   "cell_type": "code",
   "execution_count": 63,
   "metadata": {},
   "outputs": [
    {
     "name": "stdout",
     "output_type": "stream",
     "text": [
      "The smallest person in NBA history was ['Spud Webb']  and weighed  60.0 kg\n"
     ]
    }
   ],
   "source": [
    "weight = df['weight'].min()\n",
    "df[df.weight == weight].Player.unique()\n",
    "print(\"The smallest person in NBA history was\", df[df.weight == weight].Player.unique(), \" and weighed \", weight ,\"kg\")"
   ]
  },
  {
   "cell_type": "code",
   "execution_count": 64,
   "metadata": {},
   "outputs": [
    {
     "data": {
      "text/html": [
       "<div>\n",
       "<style scoped>\n",
       "    .dataframe tbody tr th:only-of-type {\n",
       "        vertical-align: middle;\n",
       "    }\n",
       "\n",
       "    .dataframe tbody tr th {\n",
       "        vertical-align: top;\n",
       "    }\n",
       "\n",
       "    .dataframe thead th {\n",
       "        text-align: right;\n",
       "    }\n",
       "</style>\n",
       "<table border=\"1\" class=\"dataframe\">\n",
       "  <thead>\n",
       "    <tr style=\"text-align: right;\">\n",
       "      <th></th>\n",
       "      <th>Player</th>\n",
       "      <th>Pos</th>\n",
       "      <th>Age</th>\n",
       "      <th>Tm</th>\n",
       "      <th>G</th>\n",
       "      <th>GS</th>\n",
       "      <th>MP</th>\n",
       "      <th>PER</th>\n",
       "      <th>TS%</th>\n",
       "      <th>3PAr</th>\n",
       "      <th>...</th>\n",
       "      <th>DRB</th>\n",
       "      <th>TRB</th>\n",
       "      <th>AST</th>\n",
       "      <th>STL</th>\n",
       "      <th>BLK</th>\n",
       "      <th>TOV</th>\n",
       "      <th>PF</th>\n",
       "      <th>PTS</th>\n",
       "      <th>height</th>\n",
       "      <th>weight</th>\n",
       "    </tr>\n",
       "    <tr>\n",
       "      <th>Year</th>\n",
       "      <th></th>\n",
       "      <th></th>\n",
       "      <th></th>\n",
       "      <th></th>\n",
       "      <th></th>\n",
       "      <th></th>\n",
       "      <th></th>\n",
       "      <th></th>\n",
       "      <th></th>\n",
       "      <th></th>\n",
       "      <th></th>\n",
       "      <th></th>\n",
       "      <th></th>\n",
       "      <th></th>\n",
       "      <th></th>\n",
       "      <th></th>\n",
       "      <th></th>\n",
       "      <th></th>\n",
       "      <th></th>\n",
       "      <th></th>\n",
       "      <th></th>\n",
       "    </tr>\n",
       "  </thead>\n",
       "  <tbody>\n",
       "    <tr>\n",
       "      <th>1950.0</th>\n",
       "      <td>Curly Armstrong</td>\n",
       "      <td>G-F</td>\n",
       "      <td>31.0</td>\n",
       "      <td>FTW</td>\n",
       "      <td>63.0</td>\n",
       "      <td>NaN</td>\n",
       "      <td>NaN</td>\n",
       "      <td>NaN</td>\n",
       "      <td>0.368</td>\n",
       "      <td>NaN</td>\n",
       "      <td>...</td>\n",
       "      <td>NaN</td>\n",
       "      <td>NaN</td>\n",
       "      <td>176.0</td>\n",
       "      <td>NaN</td>\n",
       "      <td>NaN</td>\n",
       "      <td>NaN</td>\n",
       "      <td>217.0</td>\n",
       "      <td>458.0</td>\n",
       "      <td>180.0</td>\n",
       "      <td>77.0</td>\n",
       "    </tr>\n",
       "    <tr>\n",
       "      <th>1950.0</th>\n",
       "      <td>Cliff Barker</td>\n",
       "      <td>SG</td>\n",
       "      <td>29.0</td>\n",
       "      <td>INO</td>\n",
       "      <td>49.0</td>\n",
       "      <td>NaN</td>\n",
       "      <td>NaN</td>\n",
       "      <td>NaN</td>\n",
       "      <td>0.435</td>\n",
       "      <td>NaN</td>\n",
       "      <td>...</td>\n",
       "      <td>NaN</td>\n",
       "      <td>NaN</td>\n",
       "      <td>109.0</td>\n",
       "      <td>NaN</td>\n",
       "      <td>NaN</td>\n",
       "      <td>NaN</td>\n",
       "      <td>99.0</td>\n",
       "      <td>279.0</td>\n",
       "      <td>188.0</td>\n",
       "      <td>83.0</td>\n",
       "    </tr>\n",
       "    <tr>\n",
       "      <th>1950.0</th>\n",
       "      <td>Leo Barnhorst</td>\n",
       "      <td>SF</td>\n",
       "      <td>25.0</td>\n",
       "      <td>CHS</td>\n",
       "      <td>67.0</td>\n",
       "      <td>NaN</td>\n",
       "      <td>NaN</td>\n",
       "      <td>NaN</td>\n",
       "      <td>0.394</td>\n",
       "      <td>NaN</td>\n",
       "      <td>...</td>\n",
       "      <td>NaN</td>\n",
       "      <td>NaN</td>\n",
       "      <td>140.0</td>\n",
       "      <td>NaN</td>\n",
       "      <td>NaN</td>\n",
       "      <td>NaN</td>\n",
       "      <td>192.0</td>\n",
       "      <td>438.0</td>\n",
       "      <td>193.0</td>\n",
       "      <td>86.0</td>\n",
       "    </tr>\n",
       "    <tr>\n",
       "      <th>1950.0</th>\n",
       "      <td>Ed Bartels</td>\n",
       "      <td>F</td>\n",
       "      <td>24.0</td>\n",
       "      <td>TOT</td>\n",
       "      <td>15.0</td>\n",
       "      <td>NaN</td>\n",
       "      <td>NaN</td>\n",
       "      <td>NaN</td>\n",
       "      <td>0.312</td>\n",
       "      <td>NaN</td>\n",
       "      <td>...</td>\n",
       "      <td>NaN</td>\n",
       "      <td>NaN</td>\n",
       "      <td>20.0</td>\n",
       "      <td>NaN</td>\n",
       "      <td>NaN</td>\n",
       "      <td>NaN</td>\n",
       "      <td>29.0</td>\n",
       "      <td>63.0</td>\n",
       "      <td>196.0</td>\n",
       "      <td>88.0</td>\n",
       "    </tr>\n",
       "    <tr>\n",
       "      <th>1950.0</th>\n",
       "      <td>Ed Bartels</td>\n",
       "      <td>F</td>\n",
       "      <td>24.0</td>\n",
       "      <td>DNN</td>\n",
       "      <td>13.0</td>\n",
       "      <td>NaN</td>\n",
       "      <td>NaN</td>\n",
       "      <td>NaN</td>\n",
       "      <td>0.308</td>\n",
       "      <td>NaN</td>\n",
       "      <td>...</td>\n",
       "      <td>NaN</td>\n",
       "      <td>NaN</td>\n",
       "      <td>20.0</td>\n",
       "      <td>NaN</td>\n",
       "      <td>NaN</td>\n",
       "      <td>NaN</td>\n",
       "      <td>27.0</td>\n",
       "      <td>59.0</td>\n",
       "      <td>196.0</td>\n",
       "      <td>88.0</td>\n",
       "    </tr>\n",
       "  </tbody>\n",
       "</table>\n",
       "<p>5 rows × 53 columns</p>\n",
       "</div>"
      ],
      "text/plain": [
       "                 Player  Pos   Age   Tm     G  GS  MP  PER    TS%  3PAr  \\\n",
       "Year                                                                      \n",
       "1950.0  Curly Armstrong  G-F  31.0  FTW  63.0 NaN NaN  NaN  0.368   NaN   \n",
       "1950.0     Cliff Barker   SG  29.0  INO  49.0 NaN NaN  NaN  0.435   NaN   \n",
       "1950.0    Leo Barnhorst   SF  25.0  CHS  67.0 NaN NaN  NaN  0.394   NaN   \n",
       "1950.0       Ed Bartels    F  24.0  TOT  15.0 NaN NaN  NaN  0.312   NaN   \n",
       "1950.0       Ed Bartels    F  24.0  DNN  13.0 NaN NaN  NaN  0.308   NaN   \n",
       "\n",
       "         ...    DRB  TRB    AST  STL  BLK  TOV     PF    PTS  height  weight  \n",
       "Year     ...                                                                  \n",
       "1950.0   ...    NaN  NaN  176.0  NaN  NaN  NaN  217.0  458.0   180.0    77.0  \n",
       "1950.0   ...    NaN  NaN  109.0  NaN  NaN  NaN   99.0  279.0   188.0    83.0  \n",
       "1950.0   ...    NaN  NaN  140.0  NaN  NaN  NaN  192.0  438.0   193.0    86.0  \n",
       "1950.0   ...    NaN  NaN   20.0  NaN  NaN  NaN   29.0   63.0   196.0    88.0  \n",
       "1950.0   ...    NaN  NaN   20.0  NaN  NaN  NaN   27.0   59.0   196.0    88.0  \n",
       "\n",
       "[5 rows x 53 columns]"
      ]
     },
     "execution_count": 64,
     "metadata": {},
     "output_type": "execute_result"
    }
   ],
   "source": [
    "#resetting the index\n",
    "df = df.set_index('Year')\n",
    "df.head()"
   ]
  },
  {
   "cell_type": "code",
   "execution_count": 65,
   "metadata": {},
   "outputs": [
    {
     "data": {
      "text/html": [
       "<div>\n",
       "<style scoped>\n",
       "    .dataframe tbody tr th:only-of-type {\n",
       "        vertical-align: middle;\n",
       "    }\n",
       "\n",
       "    .dataframe tbody tr th {\n",
       "        vertical-align: top;\n",
       "    }\n",
       "\n",
       "    .dataframe thead th {\n",
       "        text-align: right;\n",
       "    }\n",
       "</style>\n",
       "<table border=\"1\" class=\"dataframe\">\n",
       "  <thead>\n",
       "    <tr style=\"text-align: right;\">\n",
       "      <th></th>\n",
       "      <th>Age</th>\n",
       "      <th>G</th>\n",
       "      <th>GS</th>\n",
       "      <th>MP</th>\n",
       "      <th>PER</th>\n",
       "      <th>TS%</th>\n",
       "      <th>3PAr</th>\n",
       "      <th>FTr</th>\n",
       "      <th>ORB%</th>\n",
       "      <th>DRB%</th>\n",
       "      <th>...</th>\n",
       "      <th>DRB</th>\n",
       "      <th>TRB</th>\n",
       "      <th>AST</th>\n",
       "      <th>STL</th>\n",
       "      <th>BLK</th>\n",
       "      <th>TOV</th>\n",
       "      <th>PF</th>\n",
       "      <th>PTS</th>\n",
       "      <th>height</th>\n",
       "      <th>weight</th>\n",
       "    </tr>\n",
       "  </thead>\n",
       "  <tbody>\n",
       "    <tr>\n",
       "      <th>count</th>\n",
       "      <td>24616.000000</td>\n",
       "      <td>24624.000000</td>\n",
       "      <td>18233.000000</td>\n",
       "      <td>24138.000000</td>\n",
       "      <td>24101.000000</td>\n",
       "      <td>24538.000000</td>\n",
       "      <td>18839.000000</td>\n",
       "      <td>24525.000000</td>\n",
       "      <td>20792.000000</td>\n",
       "      <td>20792.000000</td>\n",
       "      <td>...</td>\n",
       "      <td>20797.000000</td>\n",
       "      <td>24312.000000</td>\n",
       "      <td>24624.000000</td>\n",
       "      <td>20797.000000</td>\n",
       "      <td>20797.000000</td>\n",
       "      <td>19645.000000</td>\n",
       "      <td>24624.000000</td>\n",
       "      <td>24624.000000</td>\n",
       "      <td>24624.000000</td>\n",
       "      <td>24624.000000</td>\n",
       "    </tr>\n",
       "    <tr>\n",
       "      <th>mean</th>\n",
       "      <td>26.664405</td>\n",
       "      <td>50.837110</td>\n",
       "      <td>23.593375</td>\n",
       "      <td>1209.720317</td>\n",
       "      <td>12.479071</td>\n",
       "      <td>0.493001</td>\n",
       "      <td>0.158604</td>\n",
       "      <td>0.325455</td>\n",
       "      <td>6.181565</td>\n",
       "      <td>13.708657</td>\n",
       "      <td>...</td>\n",
       "      <td>147.199404</td>\n",
       "      <td>224.637381</td>\n",
       "      <td>114.852623</td>\n",
       "      <td>39.897052</td>\n",
       "      <td>24.470260</td>\n",
       "      <td>73.939832</td>\n",
       "      <td>116.339222</td>\n",
       "      <td>510.116350</td>\n",
       "      <td>199.435348</td>\n",
       "      <td>95.523635</td>\n",
       "    </tr>\n",
       "    <tr>\n",
       "      <th>std</th>\n",
       "      <td>3.841892</td>\n",
       "      <td>26.496161</td>\n",
       "      <td>28.632387</td>\n",
       "      <td>941.146575</td>\n",
       "      <td>6.039014</td>\n",
       "      <td>0.094469</td>\n",
       "      <td>0.187495</td>\n",
       "      <td>0.218971</td>\n",
       "      <td>4.872685</td>\n",
       "      <td>6.636402</td>\n",
       "      <td>...</td>\n",
       "      <td>145.921912</td>\n",
       "      <td>228.190203</td>\n",
       "      <td>135.863913</td>\n",
       "      <td>38.713053</td>\n",
       "      <td>36.935084</td>\n",
       "      <td>67.713803</td>\n",
       "      <td>84.791873</td>\n",
       "      <td>492.922981</td>\n",
       "      <td>9.367399</td>\n",
       "      <td>12.044301</td>\n",
       "    </tr>\n",
       "    <tr>\n",
       "      <th>min</th>\n",
       "      <td>18.000000</td>\n",
       "      <td>1.000000</td>\n",
       "      <td>0.000000</td>\n",
       "      <td>0.000000</td>\n",
       "      <td>-90.600000</td>\n",
       "      <td>0.000000</td>\n",
       "      <td>0.000000</td>\n",
       "      <td>0.000000</td>\n",
       "      <td>0.000000</td>\n",
       "      <td>0.000000</td>\n",
       "      <td>...</td>\n",
       "      <td>0.000000</td>\n",
       "      <td>0.000000</td>\n",
       "      <td>0.000000</td>\n",
       "      <td>0.000000</td>\n",
       "      <td>0.000000</td>\n",
       "      <td>0.000000</td>\n",
       "      <td>0.000000</td>\n",
       "      <td>0.000000</td>\n",
       "      <td>160.000000</td>\n",
       "      <td>60.000000</td>\n",
       "    </tr>\n",
       "    <tr>\n",
       "      <th>25%</th>\n",
       "      <td>24.000000</td>\n",
       "      <td>27.000000</td>\n",
       "      <td>0.000000</td>\n",
       "      <td>340.000000</td>\n",
       "      <td>9.800000</td>\n",
       "      <td>0.458000</td>\n",
       "      <td>0.005000</td>\n",
       "      <td>0.208000</td>\n",
       "      <td>2.600000</td>\n",
       "      <td>8.800000</td>\n",
       "      <td>...</td>\n",
       "      <td>33.000000</td>\n",
       "      <td>51.000000</td>\n",
       "      <td>19.000000</td>\n",
       "      <td>9.000000</td>\n",
       "      <td>3.000000</td>\n",
       "      <td>18.000000</td>\n",
       "      <td>39.000000</td>\n",
       "      <td>106.000000</td>\n",
       "      <td>193.000000</td>\n",
       "      <td>86.000000</td>\n",
       "    </tr>\n",
       "    <tr>\n",
       "      <th>50%</th>\n",
       "      <td>26.000000</td>\n",
       "      <td>58.000000</td>\n",
       "      <td>8.000000</td>\n",
       "      <td>1053.000000</td>\n",
       "      <td>12.700000</td>\n",
       "      <td>0.506000</td>\n",
       "      <td>0.064000</td>\n",
       "      <td>0.296000</td>\n",
       "      <td>5.400000</td>\n",
       "      <td>12.700000</td>\n",
       "      <td>...</td>\n",
       "      <td>106.000000</td>\n",
       "      <td>159.000000</td>\n",
       "      <td>68.000000</td>\n",
       "      <td>29.000000</td>\n",
       "      <td>11.000000</td>\n",
       "      <td>55.000000</td>\n",
       "      <td>109.000000</td>\n",
       "      <td>364.000000</td>\n",
       "      <td>201.000000</td>\n",
       "      <td>95.000000</td>\n",
       "    </tr>\n",
       "    <tr>\n",
       "      <th>75%</th>\n",
       "      <td>29.000000</td>\n",
       "      <td>75.000000</td>\n",
       "      <td>45.000000</td>\n",
       "      <td>1971.000000</td>\n",
       "      <td>15.600000</td>\n",
       "      <td>0.544000</td>\n",
       "      <td>0.288000</td>\n",
       "      <td>0.400000</td>\n",
       "      <td>9.000000</td>\n",
       "      <td>18.100000</td>\n",
       "      <td>...</td>\n",
       "      <td>212.000000</td>\n",
       "      <td>322.000000</td>\n",
       "      <td>160.000000</td>\n",
       "      <td>60.000000</td>\n",
       "      <td>29.000000</td>\n",
       "      <td>112.000000</td>\n",
       "      <td>182.000000</td>\n",
       "      <td>778.000000</td>\n",
       "      <td>206.000000</td>\n",
       "      <td>104.000000</td>\n",
       "    </tr>\n",
       "    <tr>\n",
       "      <th>max</th>\n",
       "      <td>44.000000</td>\n",
       "      <td>88.000000</td>\n",
       "      <td>83.000000</td>\n",
       "      <td>3882.000000</td>\n",
       "      <td>129.100000</td>\n",
       "      <td>1.136000</td>\n",
       "      <td>1.000000</td>\n",
       "      <td>6.000000</td>\n",
       "      <td>100.000000</td>\n",
       "      <td>100.000000</td>\n",
       "      <td>...</td>\n",
       "      <td>1111.000000</td>\n",
       "      <td>2149.000000</td>\n",
       "      <td>1164.000000</td>\n",
       "      <td>301.000000</td>\n",
       "      <td>456.000000</td>\n",
       "      <td>464.000000</td>\n",
       "      <td>386.000000</td>\n",
       "      <td>4029.000000</td>\n",
       "      <td>231.000000</td>\n",
       "      <td>163.000000</td>\n",
       "    </tr>\n",
       "  </tbody>\n",
       "</table>\n",
       "<p>8 rows × 50 columns</p>\n",
       "</div>"
      ],
      "text/plain": [
       "                Age             G            GS            MP           PER  \\\n",
       "count  24616.000000  24624.000000  18233.000000  24138.000000  24101.000000   \n",
       "mean      26.664405     50.837110     23.593375   1209.720317     12.479071   \n",
       "std        3.841892     26.496161     28.632387    941.146575      6.039014   \n",
       "min       18.000000      1.000000      0.000000      0.000000    -90.600000   \n",
       "25%       24.000000     27.000000      0.000000    340.000000      9.800000   \n",
       "50%       26.000000     58.000000      8.000000   1053.000000     12.700000   \n",
       "75%       29.000000     75.000000     45.000000   1971.000000     15.600000   \n",
       "max       44.000000     88.000000     83.000000   3882.000000    129.100000   \n",
       "\n",
       "                TS%          3PAr           FTr          ORB%          DRB%  \\\n",
       "count  24538.000000  18839.000000  24525.000000  20792.000000  20792.000000   \n",
       "mean       0.493001      0.158604      0.325455      6.181565     13.708657   \n",
       "std        0.094469      0.187495      0.218971      4.872685      6.636402   \n",
       "min        0.000000      0.000000      0.000000      0.000000      0.000000   \n",
       "25%        0.458000      0.005000      0.208000      2.600000      8.800000   \n",
       "50%        0.506000      0.064000      0.296000      5.400000     12.700000   \n",
       "75%        0.544000      0.288000      0.400000      9.000000     18.100000   \n",
       "max        1.136000      1.000000      6.000000    100.000000    100.000000   \n",
       "\n",
       "           ...                DRB           TRB           AST           STL  \\\n",
       "count      ...       20797.000000  24312.000000  24624.000000  20797.000000   \n",
       "mean       ...         147.199404    224.637381    114.852623     39.897052   \n",
       "std        ...         145.921912    228.190203    135.863913     38.713053   \n",
       "min        ...           0.000000      0.000000      0.000000      0.000000   \n",
       "25%        ...          33.000000     51.000000     19.000000      9.000000   \n",
       "50%        ...         106.000000    159.000000     68.000000     29.000000   \n",
       "75%        ...         212.000000    322.000000    160.000000     60.000000   \n",
       "max        ...        1111.000000   2149.000000   1164.000000    301.000000   \n",
       "\n",
       "                BLK           TOV            PF           PTS        height  \\\n",
       "count  20797.000000  19645.000000  24624.000000  24624.000000  24624.000000   \n",
       "mean      24.470260     73.939832    116.339222    510.116350    199.435348   \n",
       "std       36.935084     67.713803     84.791873    492.922981      9.367399   \n",
       "min        0.000000      0.000000      0.000000      0.000000    160.000000   \n",
       "25%        3.000000     18.000000     39.000000    106.000000    193.000000   \n",
       "50%       11.000000     55.000000    109.000000    364.000000    201.000000   \n",
       "75%       29.000000    112.000000    182.000000    778.000000    206.000000   \n",
       "max      456.000000    464.000000    386.000000   4029.000000    231.000000   \n",
       "\n",
       "             weight  \n",
       "count  24624.000000  \n",
       "mean      95.523635  \n",
       "std       12.044301  \n",
       "min       60.000000  \n",
       "25%       86.000000  \n",
       "50%       95.000000  \n",
       "75%      104.000000  \n",
       "max      163.000000  \n",
       "\n",
       "[8 rows x 50 columns]"
      ]
     },
     "execution_count": 65,
     "metadata": {},
     "output_type": "execute_result"
    }
   ],
   "source": [
    "#A quick describe\n",
    "df.describe()"
   ]
  },
  {
   "cell_type": "markdown",
   "metadata": {},
   "source": [
    "#### We only intend to look at that from 1980 that is because most of the advanced statistics were not recorded prior to that\n",
    "#### So here we go..."
   ]
  },
  {
   "cell_type": "code",
   "execution_count": 66,
   "metadata": {},
   "outputs": [
    {
     "data": {
      "text/html": [
       "<div>\n",
       "<style scoped>\n",
       "    .dataframe tbody tr th:only-of-type {\n",
       "        vertical-align: middle;\n",
       "    }\n",
       "\n",
       "    .dataframe tbody tr th {\n",
       "        vertical-align: top;\n",
       "    }\n",
       "\n",
       "    .dataframe thead th {\n",
       "        text-align: right;\n",
       "    }\n",
       "</style>\n",
       "<table border=\"1\" class=\"dataframe\">\n",
       "  <thead>\n",
       "    <tr style=\"text-align: right;\">\n",
       "      <th></th>\n",
       "      <th>Player</th>\n",
       "      <th>Pos</th>\n",
       "      <th>Age</th>\n",
       "      <th>Tm</th>\n",
       "      <th>G</th>\n",
       "      <th>GS</th>\n",
       "      <th>MP</th>\n",
       "      <th>PER</th>\n",
       "      <th>TS%</th>\n",
       "      <th>3PAr</th>\n",
       "      <th>...</th>\n",
       "      <th>DRB</th>\n",
       "      <th>TRB</th>\n",
       "      <th>AST</th>\n",
       "      <th>STL</th>\n",
       "      <th>BLK</th>\n",
       "      <th>TOV</th>\n",
       "      <th>PF</th>\n",
       "      <th>PTS</th>\n",
       "      <th>height</th>\n",
       "      <th>weight</th>\n",
       "    </tr>\n",
       "    <tr>\n",
       "      <th>Year</th>\n",
       "      <th></th>\n",
       "      <th></th>\n",
       "      <th></th>\n",
       "      <th></th>\n",
       "      <th></th>\n",
       "      <th></th>\n",
       "      <th></th>\n",
       "      <th></th>\n",
       "      <th></th>\n",
       "      <th></th>\n",
       "      <th></th>\n",
       "      <th></th>\n",
       "      <th></th>\n",
       "      <th></th>\n",
       "      <th></th>\n",
       "      <th></th>\n",
       "      <th></th>\n",
       "      <th></th>\n",
       "      <th></th>\n",
       "      <th></th>\n",
       "      <th></th>\n",
       "    </tr>\n",
       "  </thead>\n",
       "  <tbody>\n",
       "    <tr>\n",
       "      <th>1980.0</th>\n",
       "      <td>Kareem Abdul-Jabbar*</td>\n",
       "      <td>C</td>\n",
       "      <td>32.0</td>\n",
       "      <td>LAL</td>\n",
       "      <td>82.0</td>\n",
       "      <td>NaN</td>\n",
       "      <td>3143.0</td>\n",
       "      <td>25.3</td>\n",
       "      <td>0.639</td>\n",
       "      <td>0.001</td>\n",
       "      <td>...</td>\n",
       "      <td>696.0</td>\n",
       "      <td>886.0</td>\n",
       "      <td>371.0</td>\n",
       "      <td>81.0</td>\n",
       "      <td>280.0</td>\n",
       "      <td>297.0</td>\n",
       "      <td>216.0</td>\n",
       "      <td>2034.0</td>\n",
       "      <td>218.0</td>\n",
       "      <td>102.0</td>\n",
       "    </tr>\n",
       "    <tr>\n",
       "      <th>1980.0</th>\n",
       "      <td>Tom Abernethy</td>\n",
       "      <td>PF</td>\n",
       "      <td>25.0</td>\n",
       "      <td>GSW</td>\n",
       "      <td>67.0</td>\n",
       "      <td>NaN</td>\n",
       "      <td>1222.0</td>\n",
       "      <td>11.0</td>\n",
       "      <td>0.511</td>\n",
       "      <td>0.003</td>\n",
       "      <td>...</td>\n",
       "      <td>129.0</td>\n",
       "      <td>191.0</td>\n",
       "      <td>87.0</td>\n",
       "      <td>35.0</td>\n",
       "      <td>12.0</td>\n",
       "      <td>39.0</td>\n",
       "      <td>118.0</td>\n",
       "      <td>362.0</td>\n",
       "      <td>201.0</td>\n",
       "      <td>99.0</td>\n",
       "    </tr>\n",
       "    <tr>\n",
       "      <th>1980.0</th>\n",
       "      <td>Alvan Adams</td>\n",
       "      <td>C</td>\n",
       "      <td>25.0</td>\n",
       "      <td>PHO</td>\n",
       "      <td>75.0</td>\n",
       "      <td>NaN</td>\n",
       "      <td>2168.0</td>\n",
       "      <td>19.2</td>\n",
       "      <td>0.571</td>\n",
       "      <td>0.002</td>\n",
       "      <td>...</td>\n",
       "      <td>451.0</td>\n",
       "      <td>609.0</td>\n",
       "      <td>322.0</td>\n",
       "      <td>108.0</td>\n",
       "      <td>55.0</td>\n",
       "      <td>218.0</td>\n",
       "      <td>237.0</td>\n",
       "      <td>1118.0</td>\n",
       "      <td>206.0</td>\n",
       "      <td>95.0</td>\n",
       "    </tr>\n",
       "    <tr>\n",
       "      <th>1980.0</th>\n",
       "      <td>Tiny Archibald*</td>\n",
       "      <td>PG</td>\n",
       "      <td>31.0</td>\n",
       "      <td>BOS</td>\n",
       "      <td>80.0</td>\n",
       "      <td>80.0</td>\n",
       "      <td>2864.0</td>\n",
       "      <td>15.3</td>\n",
       "      <td>0.574</td>\n",
       "      <td>0.023</td>\n",
       "      <td>...</td>\n",
       "      <td>138.0</td>\n",
       "      <td>197.0</td>\n",
       "      <td>671.0</td>\n",
       "      <td>106.0</td>\n",
       "      <td>10.0</td>\n",
       "      <td>242.0</td>\n",
       "      <td>218.0</td>\n",
       "      <td>1131.0</td>\n",
       "      <td>185.0</td>\n",
       "      <td>68.0</td>\n",
       "    </tr>\n",
       "    <tr>\n",
       "      <th>1980.0</th>\n",
       "      <td>Dennis Awtrey</td>\n",
       "      <td>C</td>\n",
       "      <td>31.0</td>\n",
       "      <td>CHI</td>\n",
       "      <td>26.0</td>\n",
       "      <td>NaN</td>\n",
       "      <td>560.0</td>\n",
       "      <td>7.4</td>\n",
       "      <td>0.524</td>\n",
       "      <td>0.000</td>\n",
       "      <td>...</td>\n",
       "      <td>86.0</td>\n",
       "      <td>115.0</td>\n",
       "      <td>40.0</td>\n",
       "      <td>12.0</td>\n",
       "      <td>15.0</td>\n",
       "      <td>27.0</td>\n",
       "      <td>66.0</td>\n",
       "      <td>86.0</td>\n",
       "      <td>208.0</td>\n",
       "      <td>106.0</td>\n",
       "    </tr>\n",
       "  </tbody>\n",
       "</table>\n",
       "<p>5 rows × 53 columns</p>\n",
       "</div>"
      ],
      "text/plain": [
       "                      Player Pos   Age   Tm     G    GS      MP   PER    TS%  \\\n",
       "Year                                                                           \n",
       "1980.0  Kareem Abdul-Jabbar*   C  32.0  LAL  82.0   NaN  3143.0  25.3  0.639   \n",
       "1980.0         Tom Abernethy  PF  25.0  GSW  67.0   NaN  1222.0  11.0  0.511   \n",
       "1980.0           Alvan Adams   C  25.0  PHO  75.0   NaN  2168.0  19.2  0.571   \n",
       "1980.0       Tiny Archibald*  PG  31.0  BOS  80.0  80.0  2864.0  15.3  0.574   \n",
       "1980.0         Dennis Awtrey   C  31.0  CHI  26.0   NaN   560.0   7.4  0.524   \n",
       "\n",
       "         3PAr   ...      DRB    TRB    AST    STL    BLK    TOV     PF  \\\n",
       "Year            ...                                                      \n",
       "1980.0  0.001   ...    696.0  886.0  371.0   81.0  280.0  297.0  216.0   \n",
       "1980.0  0.003   ...    129.0  191.0   87.0   35.0   12.0   39.0  118.0   \n",
       "1980.0  0.002   ...    451.0  609.0  322.0  108.0   55.0  218.0  237.0   \n",
       "1980.0  0.023   ...    138.0  197.0  671.0  106.0   10.0  242.0  218.0   \n",
       "1980.0  0.000   ...     86.0  115.0   40.0   12.0   15.0   27.0   66.0   \n",
       "\n",
       "           PTS  height  weight  \n",
       "Year                            \n",
       "1980.0  2034.0   218.0   102.0  \n",
       "1980.0   362.0   201.0    99.0  \n",
       "1980.0  1118.0   206.0    95.0  \n",
       "1980.0  1131.0   185.0    68.0  \n",
       "1980.0    86.0   208.0   106.0  \n",
       "\n",
       "[5 rows x 53 columns]"
      ]
     },
     "execution_count": 66,
     "metadata": {},
     "output_type": "execute_result"
    }
   ],
   "source": [
    "crop_data = df[df.index >= 1980]\n",
    "crop_data.head()"
   ]
  },
  {
   "cell_type": "code",
   "execution_count": 67,
   "metadata": {},
   "outputs": [
    {
     "data": {
      "text/html": [
       "<div>\n",
       "<style scoped>\n",
       "    .dataframe tbody tr th:only-of-type {\n",
       "        vertical-align: middle;\n",
       "    }\n",
       "\n",
       "    .dataframe tbody tr th {\n",
       "        vertical-align: top;\n",
       "    }\n",
       "\n",
       "    .dataframe thead th {\n",
       "        text-align: right;\n",
       "    }\n",
       "</style>\n",
       "<table border=\"1\" class=\"dataframe\">\n",
       "  <thead>\n",
       "    <tr style=\"text-align: right;\">\n",
       "      <th></th>\n",
       "      <th>Player</th>\n",
       "      <th>Pos</th>\n",
       "      <th>Age</th>\n",
       "      <th>Tm</th>\n",
       "      <th>G</th>\n",
       "      <th>GS</th>\n",
       "      <th>MP</th>\n",
       "      <th>PER</th>\n",
       "      <th>TS%</th>\n",
       "      <th>3PAr</th>\n",
       "      <th>...</th>\n",
       "      <th>DRB</th>\n",
       "      <th>TRB</th>\n",
       "      <th>AST</th>\n",
       "      <th>STL</th>\n",
       "      <th>BLK</th>\n",
       "      <th>TOV</th>\n",
       "      <th>PF</th>\n",
       "      <th>PTS</th>\n",
       "      <th>height</th>\n",
       "      <th>weight</th>\n",
       "    </tr>\n",
       "    <tr>\n",
       "      <th>Year</th>\n",
       "      <th></th>\n",
       "      <th></th>\n",
       "      <th></th>\n",
       "      <th></th>\n",
       "      <th></th>\n",
       "      <th></th>\n",
       "      <th></th>\n",
       "      <th></th>\n",
       "      <th></th>\n",
       "      <th></th>\n",
       "      <th></th>\n",
       "      <th></th>\n",
       "      <th></th>\n",
       "      <th></th>\n",
       "      <th></th>\n",
       "      <th></th>\n",
       "      <th></th>\n",
       "      <th></th>\n",
       "      <th></th>\n",
       "      <th></th>\n",
       "      <th></th>\n",
       "    </tr>\n",
       "  </thead>\n",
       "  <tbody>\n",
       "    <tr>\n",
       "      <th>2017.0</th>\n",
       "      <td>Cody Zeller</td>\n",
       "      <td>PF</td>\n",
       "      <td>24.0</td>\n",
       "      <td>CHO</td>\n",
       "      <td>62.0</td>\n",
       "      <td>58.0</td>\n",
       "      <td>1725.0</td>\n",
       "      <td>16.7</td>\n",
       "      <td>0.604</td>\n",
       "      <td>0.002</td>\n",
       "      <td>...</td>\n",
       "      <td>270.0</td>\n",
       "      <td>405.0</td>\n",
       "      <td>99.0</td>\n",
       "      <td>62.0</td>\n",
       "      <td>58.0</td>\n",
       "      <td>65.0</td>\n",
       "      <td>189.0</td>\n",
       "      <td>639.0</td>\n",
       "      <td>213.0</td>\n",
       "      <td>108.0</td>\n",
       "    </tr>\n",
       "    <tr>\n",
       "      <th>2017.0</th>\n",
       "      <td>Tyler Zeller</td>\n",
       "      <td>C</td>\n",
       "      <td>27.0</td>\n",
       "      <td>BOS</td>\n",
       "      <td>51.0</td>\n",
       "      <td>5.0</td>\n",
       "      <td>525.0</td>\n",
       "      <td>13.0</td>\n",
       "      <td>0.508</td>\n",
       "      <td>0.006</td>\n",
       "      <td>...</td>\n",
       "      <td>81.0</td>\n",
       "      <td>124.0</td>\n",
       "      <td>42.0</td>\n",
       "      <td>7.0</td>\n",
       "      <td>21.0</td>\n",
       "      <td>20.0</td>\n",
       "      <td>61.0</td>\n",
       "      <td>178.0</td>\n",
       "      <td>213.0</td>\n",
       "      <td>114.0</td>\n",
       "    </tr>\n",
       "    <tr>\n",
       "      <th>2017.0</th>\n",
       "      <td>Stephen Zimmerman</td>\n",
       "      <td>C</td>\n",
       "      <td>20.0</td>\n",
       "      <td>ORL</td>\n",
       "      <td>19.0</td>\n",
       "      <td>0.0</td>\n",
       "      <td>108.0</td>\n",
       "      <td>7.3</td>\n",
       "      <td>0.346</td>\n",
       "      <td>0.000</td>\n",
       "      <td>...</td>\n",
       "      <td>24.0</td>\n",
       "      <td>35.0</td>\n",
       "      <td>4.0</td>\n",
       "      <td>2.0</td>\n",
       "      <td>5.0</td>\n",
       "      <td>3.0</td>\n",
       "      <td>17.0</td>\n",
       "      <td>23.0</td>\n",
       "      <td>213.0</td>\n",
       "      <td>108.0</td>\n",
       "    </tr>\n",
       "    <tr>\n",
       "      <th>2017.0</th>\n",
       "      <td>Paul Zipser</td>\n",
       "      <td>SF</td>\n",
       "      <td>22.0</td>\n",
       "      <td>CHI</td>\n",
       "      <td>44.0</td>\n",
       "      <td>18.0</td>\n",
       "      <td>843.0</td>\n",
       "      <td>6.9</td>\n",
       "      <td>0.503</td>\n",
       "      <td>0.448</td>\n",
       "      <td>...</td>\n",
       "      <td>110.0</td>\n",
       "      <td>125.0</td>\n",
       "      <td>36.0</td>\n",
       "      <td>15.0</td>\n",
       "      <td>16.0</td>\n",
       "      <td>40.0</td>\n",
       "      <td>78.0</td>\n",
       "      <td>240.0</td>\n",
       "      <td>203.0</td>\n",
       "      <td>97.0</td>\n",
       "    </tr>\n",
       "    <tr>\n",
       "      <th>2017.0</th>\n",
       "      <td>Ivica Zubac</td>\n",
       "      <td>C</td>\n",
       "      <td>19.0</td>\n",
       "      <td>LAL</td>\n",
       "      <td>38.0</td>\n",
       "      <td>11.0</td>\n",
       "      <td>609.0</td>\n",
       "      <td>17.0</td>\n",
       "      <td>0.547</td>\n",
       "      <td>0.013</td>\n",
       "      <td>...</td>\n",
       "      <td>118.0</td>\n",
       "      <td>159.0</td>\n",
       "      <td>30.0</td>\n",
       "      <td>14.0</td>\n",
       "      <td>33.0</td>\n",
       "      <td>30.0</td>\n",
       "      <td>66.0</td>\n",
       "      <td>284.0</td>\n",
       "      <td>216.0</td>\n",
       "      <td>120.0</td>\n",
       "    </tr>\n",
       "  </tbody>\n",
       "</table>\n",
       "<p>5 rows × 53 columns</p>\n",
       "</div>"
      ],
      "text/plain": [
       "                   Player Pos   Age   Tm     G    GS      MP   PER    TS%  \\\n",
       "Year                                                                        \n",
       "2017.0        Cody Zeller  PF  24.0  CHO  62.0  58.0  1725.0  16.7  0.604   \n",
       "2017.0       Tyler Zeller   C  27.0  BOS  51.0   5.0   525.0  13.0  0.508   \n",
       "2017.0  Stephen Zimmerman   C  20.0  ORL  19.0   0.0   108.0   7.3  0.346   \n",
       "2017.0        Paul Zipser  SF  22.0  CHI  44.0  18.0   843.0   6.9  0.503   \n",
       "2017.0        Ivica Zubac   C  19.0  LAL  38.0  11.0   609.0  17.0  0.547   \n",
       "\n",
       "         3PAr   ...      DRB    TRB   AST   STL   BLK   TOV     PF    PTS  \\\n",
       "Year            ...                                                         \n",
       "2017.0  0.002   ...    270.0  405.0  99.0  62.0  58.0  65.0  189.0  639.0   \n",
       "2017.0  0.006   ...     81.0  124.0  42.0   7.0  21.0  20.0   61.0  178.0   \n",
       "2017.0  0.000   ...     24.0   35.0   4.0   2.0   5.0   3.0   17.0   23.0   \n",
       "2017.0  0.448   ...    110.0  125.0  36.0  15.0  16.0  40.0   78.0  240.0   \n",
       "2017.0  0.013   ...    118.0  159.0  30.0  14.0  33.0  30.0   66.0  284.0   \n",
       "\n",
       "        height  weight  \n",
       "Year                    \n",
       "2017.0   213.0   108.0  \n",
       "2017.0   213.0   114.0  \n",
       "2017.0   213.0   108.0  \n",
       "2017.0   203.0    97.0  \n",
       "2017.0   216.0   120.0  \n",
       "\n",
       "[5 rows x 53 columns]"
      ]
     },
     "execution_count": 67,
     "metadata": {},
     "output_type": "execute_result"
    }
   ],
   "source": [
    "crop_data.tail()"
   ]
  },
  {
   "cell_type": "markdown",
   "metadata": {},
   "source": [
    "## Exploration"
   ]
  },
  {
   "cell_type": "markdown",
   "metadata": {},
   "source": [
    "Firstly let's have a look at weights and heights of players in the since 1980"
   ]
  },
  {
   "cell_type": "code",
   "execution_count": 68,
   "metadata": {},
   "outputs": [
    {
     "data": {
      "image/png": "[encoded data removed]",
      "text/plain": [
       "<matplotlib.figure.Figure at 0x187df8cf048>"
      ]
     },
     "metadata": {},
     "output_type": "display_data"
    }
   ],
   "source": [
    "y = []\n",
    "\n",
    "for j in ['PG','PF','SG', 'C', 'SF']:\n",
    "    for i in np.arange(1980,2017):\n",
    "        yrly_data = crop_data.loc[i];\n",
    "        y.append(yrly_data[yrly_data.Pos == j]['weight'].sum()/yrly_data[yrly_data.Pos == j]['weight'].count())\n",
    "    plt.plot(np.arange(1980,2017), y)\n",
    "    y = []\n",
    "plt.title(\"The weights of players since 1980\")\n",
    "plt.xlabel(\"Year\")\n",
    "plt.ylabel(\"weight in kg\")\n",
    "plt.legend(['PG','PF','SG','C','SF'], ncol=2, loc='upper left');"
   ]
  },
  {
   "cell_type": "code",
   "execution_count": 69,
   "metadata": {},
   "outputs": [
    {
     "data": {
      "text/plain": [
       "0.2990086462427954"
      ]
     },
     "execution_count": 69,
     "metadata": {},
     "output_type": "execute_result"
    },
    {
     "data": {
      "image/png": "[encoded data removed]",
      "text/plain": [
       "<matplotlib.figure.Figure at 0x187df3d2908>"
      ]
     },
     "metadata": {},
     "output_type": "display_data"
    }
   ],
   "source": [
    "crop_data.loc[1980:2017]['weight'].hist()\n",
    "stats.skew(crop_data.loc[1980:2017]['weight'])"
   ]
  },
  {
   "cell_type": "markdown",
   "metadata": {},
   "source": [
    "From the first plot we see that players in the NBA are getting bigger. Also we note that weights of players in the NBA since 1980 seems to be slightly positively skewed, as supported by the the skewness value of 0.299 by the looks of it most players weigh in close to 100kg\n",
    "\n",
    "All the weights of players in the NBA by position seem to increasing"
   ]
  },
  {
   "cell_type": "code",
   "execution_count": 70,
   "metadata": {},
   "outputs": [
    {
     "data": {
      "image/png": "[encoded data removed]",
      "text/plain": [
       "<matplotlib.figure.Figure at 0x187dd374cc0>"
      ]
     },
     "metadata": {},
     "output_type": "display_data"
    }
   ],
   "source": [
    "y = []\n",
    "\n",
    "for j in ['PG','PF','SG', 'C', 'SF']:\n",
    "    for i in np.arange(1980,2017):\n",
    "        yrly_data = crop_data.loc[i];\n",
    "        y.append(yrly_data[yrly_data.Pos == j]['height'].sum()/yrly_data[yrly_data.Pos == j]['height'].count())\n",
    "    plt.plot(np.arange(1980,2017), y)\n",
    "    y = []\n",
    "plt.title(\"The heights of players since 1980\")\n",
    "plt.xlabel(\"Year\")\n",
    "plt.ylabel(\"height in centimeters\")\n",
    "plt.legend(['PG','PF','SG','C','SF'], ncol=2, loc='upper left');"
   ]
  },
  {
   "cell_type": "code",
   "execution_count": 71,
   "metadata": {},
   "outputs": [
    {
     "data": {
      "text/plain": [
       "-0.317272260022534"
      ]
     },
     "execution_count": 71,
     "metadata": {},
     "output_type": "execute_result"
    },
    {
     "data": {
      "image/png": "[encoded data removed]",
      "text/plain": [
       "<matplotlib.figure.Figure at 0x187df9e4588>"
      ]
     },
     "metadata": {},
     "output_type": "display_data"
    }
   ],
   "source": [
    "crop_data.loc[1980:2017]['height'].hist()\n",
    "stats.skew(crop_data.loc[1980:2017]['height'])"
   ]
  },
  {
   "cell_type": "markdown",
   "metadata": {},
   "source": [
    "The heights of players by position hasn't changed much over the years, but we do notice that Point Guards(PG) are getting taller in recent years. We also note that the heigts are negatively skewed, there are more tall players than shot players and majority of players have had a height of around 210 cm(2.1 m)\n",
    "\n",
    "Next lets look at the trend(if any) of shooting over the years."
   ]
  },
  {
   "cell_type": "code",
   "execution_count": 72,
   "metadata": {},
   "outputs": [
    {
     "data": {
      "text/plain": [
       "Text(0.5,1,'3s over time')"
      ]
     },
     "execution_count": 72,
     "metadata": {},
     "output_type": "execute_result"
    },
    {
     "data": {
      "image/png": "[encoded data removed]",
      "text/plain": [
       "<matplotlib.figure.Figure at 0x187dfb735c0>"
      ]
     },
     "metadata": {},
     "output_type": "display_data"
    }
   ],
   "source": [
    "#Since the introduction of the three point line in 1980, have teams been\n",
    "#attempting more 3s, if so, have then been making more?\n",
    "tpa = []\n",
    "tp = []\n",
    "for i in np.arange(1980,2018):\n",
    "    tpa.append(np.sum((crop_data[crop_data.index == i*1.0])['3PA']))\n",
    "    tp.append(np.sum((crop_data[crop_data.index == i*1.0])['3P']))\n",
    "ax  = plt.axes()\n",
    "x = np.array(np.arange(1980,2018))\n",
    "ax.plot(x, np.array(tpa),'-r');\n",
    "ax.plot(x, np.array(tp),'-g');\n",
    "ax.set_xlabel(\"Year\")\n",
    "ax.set_ylabel(\"3s\")\n",
    "ax.legend(['3PA', '3P'])\n",
    "ax.set_title(\"3s over time\")"
   ]
  },
  {
   "cell_type": "markdown",
   "metadata": {},
   "source": [
    "It seems that since 2000 players have been attempting more 3s every year, however they are not making as many of the 3s they attempting as matter of fact the difference between the two is significantly large but because of the law of large numbers the number of 3 point makes is also increasing."
   ]
  },
  {
   "cell_type": "code",
   "execution_count": 73,
   "metadata": {},
   "outputs": [
    {
     "data": {
      "text/plain": [
       "Text(0.5,1,'2s over time')"
      ]
     },
     "execution_count": 73,
     "metadata": {},
     "output_type": "execute_result"
    },
    {
     "data": {
      "image/png": "[encoded data removed]",
      "text/plain": [
       "<matplotlib.figure.Figure at 0x187dd361da0>"
      ]
     },
     "metadata": {},
     "output_type": "display_data"
    }
   ],
   "source": [
    "tw_pa = []\n",
    "tw = []\n",
    "for i in np.arange(1980,2018):\n",
    "    tw_pa.append(np.sum((crop_data[crop_data.index == i*1.0])['2PA']))\n",
    "    tw.append(np.sum((crop_data[crop_data.index == i*1.0])['2P']))\n",
    "    #     print(i, \" \", np.sum((crop_data[crop_data.index == i*1.0])['3PA']))\n",
    "\n",
    "ax  = plt.axes()\n",
    "x = np.array(np.arange(1980,2018))\n",
    "ax.plot(x, np.array(tw_pa),'-b');\n",
    "ax.plot(x, np.array(tw),'-y');\n",
    "ax.set_xlabel(\"Year\")\n",
    "ax.set_ylabel(\"2s\")\n",
    "ax.legend(['2PA', '2P'])\n",
    "ax.set_title(\"2s over time\")"
   ]
  },
  {
   "cell_type": "markdown",
   "metadata": {},
   "source": [
    "The number of 2s attmpted appears not to change much, from the early 2000s they have been showing a decrease. This could be because players are attempting more 3s"
   ]
  },
  {
   "cell_type": "markdown",
   "metadata": {},
   "source": [
    "The reason for the dips in the stats around 1999 and 2012 appear to because of some trouble within the NBA after reviewing some literature here's what we found.\n",
    "\n",
    "cited from https://en.wikipedia.org/wiki/2011_NBA_lockout\n",
    "\"The 2011 NBA lockout was the fourth lockout in the history of the National Basketball Association (NBA). The owners began the work stoppage upon expiration of the 2005 collective bargaining agreement (CBA). The 161-day lockout began on July 1, 2011 and ended on December 8, 2011. It delayed the start of the 2011–12 regular season from November 1 to December 25, and it reduced the regular season from 82 to 66 games. The previous lockout in 1998–99 had shortened the season to 50 games. During the lockout, teams could not trade, sign or contact players, and players could not access NBA team facilities, trainers, or staffs.\""
   ]
  },
  {
   "cell_type": "markdown",
   "metadata": {},
   "source": [
    "#### Since the number of 3s taken is rising which positions are mostly responsible for taking 3s?"
   ]
  },
  {
   "cell_type": "code",
   "execution_count": 74,
   "metadata": {},
   "outputs": [
    {
     "data": {
      "text/plain": [
       "array(['C', 'PF', 'PG', 'SG', 'SF', 'SG-PG', 'SF-SG', 'SG-SF', 'C-PF',\n",
       "       'PF-C', 'SF-PF', 'PG-SG', 'PF-SF', 'PG-SF', 'SG-PF', 'C-SF'],\n",
       "      dtype=object)"
      ]
     },
     "execution_count": 74,
     "metadata": {},
     "output_type": "execute_result"
    }
   ],
   "source": [
    "crop_data['Pos'].unique()"
   ]
  },
  {
   "cell_type": "markdown",
   "metadata": {},
   "source": [
    "from our data it seems that there players who played multiple positions are going to have to encode their data in a different way. If we find a player belonging to more than one position we are going to add them to all their mentioned positions"
   ]
  },
  {
   "cell_type": "code",
   "execution_count": 75,
   "metadata": {},
   "outputs": [],
   "source": [
    "dict = {'C':0, 'PF':0, 'PG':0, 'SG':0, 'SF':0 }\n",
    "pos_df = pd.Series(dict)\n",
    "posa_df = pd.Series(dict)"
   ]
  },
  {
   "cell_type": "code",
   "execution_count": 76,
   "metadata": {},
   "outputs": [
    {
     "data": {
      "text/plain": [
       "<matplotlib.axes._subplots.AxesSubplot at 0x187dfc6b710>"
      ]
     },
     "execution_count": 76,
     "metadata": {},
     "output_type": "execute_result"
    },
    {
     "data": {
      "image/png": "[encoded data removed]",
      "text/plain": [
       "<matplotlib.figure.Figure at 0x187e0848a90>"
      ]
     },
     "metadata": {},
     "output_type": "display_data"
    }
   ],
   "source": [
    "dict = {'C':0, 'PF':0, 'PG':0, 'SG':0, 'SF':0 }\n",
    "pos_df = pd.Series(dict)\n",
    "posa_df = pd.Series(dict)\n",
    "\n",
    "pt = crop_data[['Pos', '3P','3PA']]\n",
    "pt[pt.Pos == 'C']['3P']\n",
    "positions = ['C', 'PF', 'PG', 'SF', 'SG', 'SG-PG', 'SF-SG', 'SG-SF', 'C-PF',\n",
    "       'PF-C', 'SF-PF', 'PG-SG', 'PF-SF', 'PG-SF', 'SG-PF', 'C-SF']\n",
    "for i in positions:\n",
    "    ps = i.split('-')\n",
    "    for j in ps:\n",
    "        pos_df[j] += sum(pt[pt.Pos == i]['3P'])\n",
    "        posa_df[j] += sum(pt[pt.Pos == i]['3PA'])\n",
    "\n",
    "results = pd.DataFrame({'Pos':positions[0:5],'3P':pos_df, '3PA':posa_df})\n",
    "results['Success Rate'] = results['3P']/(results['3PA'])\n",
    "results\n",
    "\n",
    "fig, ax = plt.subplots(1,2)\n",
    "fig.subplots_adjust(wspace=0.5)\n",
    "sns.barplot(x='Pos', y='Success Rate', data=results, ax = ax[1])\n",
    "ax1 = sns.barplot(x='Pos', y='3P', data=results, ax= ax[0])\n",
    "sns.barplot(x='Pos', y='3PA', data=results, ax = ax1, alpha=0.5)"
   ]
  },
  {
   "cell_type": "markdown",
   "metadata": {},
   "source": [
    "###### observation\n",
    "We clearly see that Shooting Guards are the ones that make the most 3s and Centers make the least\n",
    "\n",
    "Let's look at the 2s as well"
   ]
  },
  {
   "cell_type": "code",
   "execution_count": 77,
   "metadata": {},
   "outputs": [
    {
     "data": {
      "text/html": [
       "<div>\n",
       "<style scoped>\n",
       "    .dataframe tbody tr th:only-of-type {\n",
       "        vertical-align: middle;\n",
       "    }\n",
       "\n",
       "    .dataframe tbody tr th {\n",
       "        vertical-align: top;\n",
       "    }\n",
       "\n",
       "    .dataframe thead th {\n",
       "        text-align: right;\n",
       "    }\n",
       "</style>\n",
       "<table border=\"1\" class=\"dataframe\">\n",
       "  <thead>\n",
       "    <tr style=\"text-align: right;\">\n",
       "      <th></th>\n",
       "      <th>2P</th>\n",
       "      <th>2PA</th>\n",
       "      <th>Pos</th>\n",
       "      <th>Success Rate</th>\n",
       "    </tr>\n",
       "  </thead>\n",
       "  <tbody>\n",
       "    <tr>\n",
       "      <th>C</th>\n",
       "      <td>598897</td>\n",
       "      <td>1191714</td>\n",
       "      <td>C</td>\n",
       "      <td>0.502551</td>\n",
       "    </tr>\n",
       "    <tr>\n",
       "      <th>PF</th>\n",
       "      <td>686653</td>\n",
       "      <td>1395754</td>\n",
       "      <td>PF</td>\n",
       "      <td>0.491958</td>\n",
       "    </tr>\n",
       "    <tr>\n",
       "      <th>PG</th>\n",
       "      <td>549609</td>\n",
       "      <td>1184208</td>\n",
       "      <td>PG</td>\n",
       "      <td>0.464115</td>\n",
       "    </tr>\n",
       "    <tr>\n",
       "      <th>SF</th>\n",
       "      <td>645020</td>\n",
       "      <td>1338591</td>\n",
       "      <td>SF</td>\n",
       "      <td>0.481865</td>\n",
       "    </tr>\n",
       "    <tr>\n",
       "      <th>SG</th>\n",
       "      <td>629096</td>\n",
       "      <td>1334902</td>\n",
       "      <td>SG</td>\n",
       "      <td>0.471268</td>\n",
       "    </tr>\n",
       "  </tbody>\n",
       "</table>\n",
       "</div>"
      ],
      "text/plain": [
       "        2P      2PA Pos  Success Rate\n",
       "C   598897  1191714   C      0.502551\n",
       "PF  686653  1395754  PF      0.491958\n",
       "PG  549609  1184208  PG      0.464115\n",
       "SF  645020  1338591  SF      0.481865\n",
       "SG  629096  1334902  SG      0.471268"
      ]
     },
     "execution_count": 77,
     "metadata": {},
     "output_type": "execute_result"
    }
   ],
   "source": [
    "dict = {'C':0, 'PF':0, 'PG':0, 'SG':0, 'SF':0 }\n",
    "pos_df = pd.Series(dict)\n",
    "posa_df = pd.Series(dict)\n",
    "\n",
    "pt = crop_data[['Pos', '2P','2PA']]\n",
    "pt[pt.Pos == 'C']['2P']\n",
    "positions = ['C', 'PF', 'PG', 'SF', 'SG', 'SG-PG', 'SF-SG', 'SG-SF', 'C-PF',\n",
    "       'PF-C', 'SF-PF', 'PG-SG', 'PF-SF', 'PG-SF', 'SG-PF', 'C-SF']\n",
    "for i in positions:\n",
    "    ps = i.split('-')\n",
    "    for j in ps:\n",
    "        pos_df[j] += sum(pt[pt.Pos == i]['2P'])\n",
    "        posa_df[j] += sum(pt[pt.Pos == i]['2PA'])\n",
    "results_1 = pd.DataFrame({'Pos':positions[0:5],'2P':pos_df, '2PA':posa_df})\n",
    "results_1['Success Rate'] = results_1['2P']/(results_1['2PA'])\n",
    "results_1"
   ]
  },
  {
   "cell_type": "code",
   "execution_count": 78,
   "metadata": {},
   "outputs": [
    {
     "data": {
      "text/plain": [
       "<matplotlib.axes._subplots.AxesSubplot at 0x187df9f8f98>"
      ]
     },
     "execution_count": 78,
     "metadata": {},
     "output_type": "execute_result"
    },
    {
     "data": {
      "image/png": "[encoded data removed]",
      "text/plain": [
       "<matplotlib.figure.Figure at 0x187df42d780>"
      ]
     },
     "metadata": {},
     "output_type": "display_data"
    }
   ],
   "source": [
    "fig, ax = plt.subplots(1,2)\n",
    "fig.subplots_adjust(wspace=0.5)\n",
    "sns.barplot(x='Pos', y='Success Rate', data = results_1, ax = ax[1])\n",
    "ax1 = sns.barplot(x='Pos', y='2P', data = results_1, ax = ax[0])\n",
    "sns.barplot(x='Pos', y='2PA', data = results_1, ax = ax1, alpha=0.5)"
   ]
  },
  {
   "cell_type": "markdown",
   "metadata": {},
   "source": [
    "from this plot we that power forwards are the ones making 2-Point shots and point guards are making the least\n",
    "\n",
    "makes more sense because the bigger guys are closer to the basket."
   ]
  },
  {
   "cell_type": "markdown",
   "metadata": {},
   "source": [
    "looking at the plots on 3s and the plots on 2s it seems that small forwards take and make the most shots. We want to look at dynamics of each position, who exactly which position exactly is reponsible for the number of 3s attempted"
   ]
  },
  {
   "cell_type": "markdown",
   "metadata": {},
   "source": [
    "#### Looking at 3s per year by position"
   ]
  },
  {
   "cell_type": "code",
   "execution_count": 79,
   "metadata": {},
   "outputs": [
    {
     "data": {
      "text/html": [
       "<div>\n",
       "<style scoped>\n",
       "    .dataframe tbody tr th:only-of-type {\n",
       "        vertical-align: middle;\n",
       "    }\n",
       "\n",
       "    .dataframe tbody tr th {\n",
       "        vertical-align: top;\n",
       "    }\n",
       "\n",
       "    .dataframe thead th {\n",
       "        text-align: right;\n",
       "    }\n",
       "</style>\n",
       "<table border=\"1\" class=\"dataframe\">\n",
       "  <thead>\n",
       "    <tr style=\"text-align: right;\">\n",
       "      <th></th>\n",
       "      <th></th>\n",
       "      <th>3P</th>\n",
       "      <th>3PA</th>\n",
       "      <th>Pos</th>\n",
       "    </tr>\n",
       "  </thead>\n",
       "  <tbody>\n",
       "    <tr>\n",
       "      <th rowspan=\"5\" valign=\"top\">2000</th>\n",
       "      <th>C</th>\n",
       "      <td>100.0</td>\n",
       "      <td>382.0</td>\n",
       "      <td>C</td>\n",
       "    </tr>\n",
       "    <tr>\n",
       "      <th>PF</th>\n",
       "      <td>1217.0</td>\n",
       "      <td>3649.0</td>\n",
       "      <td>PF</td>\n",
       "    </tr>\n",
       "    <tr>\n",
       "      <th>PG</th>\n",
       "      <td>3626.0</td>\n",
       "      <td>10435.0</td>\n",
       "      <td>PG</td>\n",
       "    </tr>\n",
       "    <tr>\n",
       "      <th>SG</th>\n",
       "      <td>3154.0</td>\n",
       "      <td>8832.0</td>\n",
       "      <td>SF</td>\n",
       "    </tr>\n",
       "    <tr>\n",
       "      <th>SF</th>\n",
       "      <td>3824.0</td>\n",
       "      <td>10630.0</td>\n",
       "      <td>SG</td>\n",
       "    </tr>\n",
       "  </tbody>\n",
       "</table>\n",
       "</div>"
      ],
      "text/plain": [
       "             3P      3PA Pos\n",
       "2000 C    100.0    382.0   C\n",
       "     PF  1217.0   3649.0  PF\n",
       "     PG  3626.0  10435.0  PG\n",
       "     SG  3154.0   8832.0  SF\n",
       "     SF  3824.0  10630.0  SG"
      ]
     },
     "execution_count": 79,
     "metadata": {},
     "output_type": "execute_result"
    }
   ],
   "source": [
    "#Loop through the year\n",
    "#separate the number of 3s taken by position\n",
    "\n",
    "dict1 = {'C':0, 'PF':0, 'PG':0, 'SG':0, 'SF':0 }\n",
    "dict2 = {'C':0, 'PF':0, 'PG':0, 'SG':0, 'SF':0 }\n",
    "# trs_made = pd.Series(dict)\n",
    "# trs_attempted = pd.Series(dict)\n",
    "positions = ['C', 'PF', 'PG', 'SF', 'SG', 'SG-PG', 'SF-SG', 'SG-SF', 'C-PF',\n",
    "       'PF-C', 'SF-PF', 'PG-SG', 'PF-SF', 'PG-SF', 'SG-PF', 'C-SF']\n",
    "# records = []\n",
    "for j in np.arange(2000,2018):\n",
    "    data_by_year = crop_data[crop_data.index == j]\n",
    "    for i in positions:\n",
    "        ps = i.split('-')\n",
    "        for k in ps:\n",
    "            dict1[k] += sum(data_by_year[data_by_year.Pos == i]['3P'])\n",
    "            dict2[k] += sum(data_by_year[data_by_year.Pos == i]['3PA'])\n",
    "    if j == 2000:\n",
    "            index = [(j,'C'),(j,'PF'),(j,'PG'),(j,'SG'),(j,'SF')]   \n",
    "            trs_made = (pd.Series(dict1))\n",
    "            trs_attempted = (pd.Series(dict2))\n",
    "            trs_attempted.index = index\n",
    "            trs_made.index = index\n",
    "            index =  pd.MultiIndex.from_tuples(index)\n",
    "            trs_made = trs_made.reindex(index)\n",
    "            trs_attempted = trs_attempted.reindex(index)\n",
    "\n",
    "            records = pd.DataFrame({'3P':trs_made, '3PA':trs_attempted,'Pos':positions[0:5]})\n",
    "    else:\n",
    "        index = [(j,'C'),(j,'PF'),(j,'PG'),(j,'SG'),(j,'SF')]   \n",
    "        trs_made = (pd.Series(dict1))\n",
    "        trs_attempted = (pd.Series(dict2))\n",
    "        trs_attempted.index = index\n",
    "        trs_made.index = index\n",
    "        index =  pd.MultiIndex.from_tuples(index)\n",
    "        trs_made = trs_made.reindex(index)\n",
    "        trs_attempted = trs_attempted.reindex(index)\n",
    "#         records = pd.DataFrame({'3P':trs_made, '3PA':trs_attempted})    \n",
    "        tmp = pd.DataFrame({'3P':trs_made, '3PA':trs_attempted,'Pos':positions[0:5]})\n",
    "        records =  pd.concat([records, tmp]) \n",
    "#records contains a dataframe for each year about the number of 3s attempted and the number made by each position\n",
    "#now we have to have a line plot\n",
    "records.head()"
   ]
  },
  {
   "cell_type": "code",
   "execution_count": 80,
   "metadata": {},
   "outputs": [
    {
     "data": {
      "text/plain": [
       "array([ 100.,  188.,  612.,  762.,  920., 1220., 1285., 1590., 2121.,\n",
       "       2554., 3038., 3229., 3346., 3467., 4060., 4419., 5106., 6756.])"
      ]
     },
     "execution_count": 80,
     "metadata": {},
     "output_type": "execute_result"
    }
   ],
   "source": [
    "d = records.loc[:]\n",
    "d[d.Pos == 'C']['3P'].values"
   ]
  },
  {
   "cell_type": "code",
   "execution_count": 81,
   "metadata": {},
   "outputs": [
    {
     "data": {
      "text/plain": [
       "Text(0.5,1,'3s by position')"
      ]
     },
     "execution_count": 81,
     "metadata": {},
     "output_type": "execute_result"
    },
    {
     "data": {
      "image/png": "[encoded data removed]",
      "text/plain": [
       "<matplotlib.figure.Figure at 0x187e360d470>"
      ]
     },
     "metadata": {},
     "output_type": "display_data"
    }
   ],
   "source": [
    "positions = ['C','PF','SF','SG','PG'];\n",
    "for i in positions:\n",
    "    plt.plot(np.arange(2000,2018), d[d.Pos == i]['3P'].values)\n",
    "plt.legend(['C','PF','SF','SG','PG'], ncol=2, loc='upper left');\n",
    "plt.xlabel(\"Year\")\n",
    "plt.ylabel(\"Number of 3s\")\n",
    "plt.title(\"3s by position\")"
   ]
  },
  {
   "cell_type": "code",
   "execution_count": 82,
   "metadata": {},
   "outputs": [
    {
     "data": {
      "image/png": "[encoded data removed]",
      "text/plain": [
       "<matplotlib.figure.Figure at 0x187e364b080>"
      ]
     },
     "metadata": {},
     "output_type": "display_data"
    }
   ],
   "source": [
    "fig, ax = plt.subplots(2, 3)\n",
    "fig.subplots_adjust(hspace=0.3, wspace=0.5)\n",
    "positions = ['C','PF','SF','SG','PG'];\n",
    "c = 0;\n",
    "for i in np.arange(2):\n",
    "    for j in np.arange(3):\n",
    "        if c <= 4:\n",
    "            ax[i,j].plot(np.arange(2000,2018), d[d.Pos == positions[c]]['3P'].values)\n",
    "            ax[i,j].legend(positions[c])\n",
    "        c = c + 1"
   ]
  },
  {
   "cell_type": "markdown",
   "metadata": {},
   "source": [
    "The plots above that show that there is an increase in the number of 3s taken since 2000 is somewhat quadratic. What is interesting to is the plot for the Centers. It seems that the number of 3s they attempted rose even further since around 2012-2013."
   ]
  },
  {
   "cell_type": "markdown",
   "metadata": {},
   "source": [
    "#### Deeper look into the impact of the Three-point Shot\n",
    "Since the beginning of this notebook we have been noticing that there has been a rise in the number of 3s taken by each position. Now we ask a question what is the effect of teams taking more 3s, does it lead to success(success being that they end up higher in the final NBA regular season standings)?"
   ]
  },
  {
   "cell_type": "code",
   "execution_count": 83,
   "metadata": {},
   "outputs": [
    {
     "data": {
      "text/plain": [
       "array(['OKC', 'DAL', 'BRK', 'SAC', 'NOP', 'MIN', 'SAS', 'IND', 'MEM',\n",
       "       'POR', 'CLE', 'LAC', 'PHI', 'HOU', 'MIL', 'NYK', 'DEN', 'ORL',\n",
       "       'MIA', 'PHO', 'GSW', 'CHO', 'DET', 'ATL', 'WAS', 'LAL', 'UTA',\n",
       "       'BOS', 'CHI', 'TOR'], dtype=object)"
      ]
     },
     "execution_count": 83,
     "metadata": {},
     "output_type": "execute_result"
    }
   ],
   "source": [
    "data_2017 = crop_data.loc[2017]\n",
    "data_2017 = data_2017[data_2017.Tm != 'TOT']\n",
    "teams = pd.DataFrame({'Tm':data_2017['Tm'].unique(), 'TP':0})\n",
    "teams = teams.set_index('Tm')\n",
    "data_2017['Tm'].unique()"
   ]
  },
  {
   "cell_type": "markdown",
   "metadata": {},
   "source": [
    "The number of unique teams in the NBA"
   ]
  },
  {
   "cell_type": "markdown",
   "metadata": {},
   "source": [
    "Lets look for 16 team that shot the most 3s in the 2016-2017 regular season"
   ]
  },
  {
   "cell_type": "code",
   "execution_count": 84,
   "metadata": {},
   "outputs": [
    {
     "name": "stdout",
     "output_type": "stream",
     "text": [
      "The league average in terms of 3s for 2017:  35.714887396105624 %  3 points team average  791.6  percentage  0.35714887396105627\n"
     ]
    },
    {
     "name": "stderr",
     "output_type": "stream",
     "text": [
      "C:\\Users\\Sandile\\Anaconda3\\lib\\site-packages\\ipykernel_launcher.py:11: SettingWithCopyWarning: \n",
      "A value is trying to be set on a copy of a slice from a DataFrame.\n",
      "Try using .loc[row_indexer,col_indexer] = value instead\n",
      "\n",
      "See the caveats in the documentation: http://pandas.pydata.org/pandas-docs/stable/indexing.html#indexing-view-versus-copy\n",
      "  # This is added back by InteractiveShellApp.init_path()\n"
     ]
    }
   ],
   "source": [
    "for i in (data_2017.Tm.unique()):\n",
    "    teams.loc[i] = np.sum(np.sum(data_2017[data_2017.Tm == i]['3P']))/np.sum(np.sum(data_2017[data_2017.Tm == i]['3PA']))\n",
    "teams = teams.sort_values('TP', ascending=False)\n",
    "teams['teams'] = teams.index\n",
    "league_avep = np.mean(teams.TP.values)\n",
    "\n",
    "for i in (data_2017.Tm.unique()):\n",
    "    teams.loc[i] = np.sum(np.sum(data_2017[data_2017.Tm == i]['3P']))\n",
    "league_avea = np.mean(teams.TP.values)\n",
    "above_ave = teams[teams.TP >= league_avea]\n",
    "above_ave['teams'] = above_ave.index\n",
    "print(\"The league average in terms of 3s for 2017: \", league_avep*100, \"%  3 points team average \", league_avea ,\" percentage \", league_avep)\n"
   ]
  },
  {
   "cell_type": "code",
   "execution_count": 85,
   "metadata": {},
   "outputs": [],
   "source": [
    "#this code was adapted from a stackoverflow  answer listed here:\n",
    "#https://stackoverflow.com/questions/29212955/how-to-convert-pipe-separated-text-file-to-csv/29213175\n",
    "def convert_to_csv(filename):\n",
    "    with open(filename+\".txt\", \"r\") as file_pipe:\n",
    "        reader_pipe = csv.reader(file_pipe, delimiter=',')\n",
    "        with open(filename+\".csv\", 'w') as file_comma:\n",
    "            writer_comma = csv.writer(file_comma, delimiter=',')\n",
    "            writer_comma.writerows(reader_pipe)"
   ]
  },
  {
   "cell_type": "code",
   "execution_count": 86,
   "metadata": {},
   "outputs": [
    {
     "data": {
      "text/html": [
       "<div>\n",
       "<style scoped>\n",
       "    .dataframe tbody tr th:only-of-type {\n",
       "        vertical-align: middle;\n",
       "    }\n",
       "\n",
       "    .dataframe tbody tr th {\n",
       "        vertical-align: top;\n",
       "    }\n",
       "\n",
       "    .dataframe thead th {\n",
       "        text-align: right;\n",
       "    }\n",
       "</style>\n",
       "<table border=\"1\" class=\"dataframe\">\n",
       "  <thead>\n",
       "    <tr style=\"text-align: right;\">\n",
       "      <th></th>\n",
       "      <th>Rk</th>\n",
       "      <th>Team</th>\n",
       "      <th>Overall</th>\n",
       "      <th>Home</th>\n",
       "      <th>Road</th>\n",
       "      <th>E</th>\n",
       "      <th>W</th>\n",
       "      <th>A</th>\n",
       "      <th>C</th>\n",
       "      <th>SE</th>\n",
       "      <th>...</th>\n",
       "      <th>Post</th>\n",
       "      <th>≤3</th>\n",
       "      <th>≥10</th>\n",
       "      <th>Oct</th>\n",
       "      <th>Nov</th>\n",
       "      <th>Dec</th>\n",
       "      <th>Jan</th>\n",
       "      <th>Feb</th>\n",
       "      <th>Mar</th>\n",
       "      <th>Apr</th>\n",
       "    </tr>\n",
       "  </thead>\n",
       "  <tbody>\n",
       "    <tr>\n",
       "      <th>0</th>\n",
       "      <td>1</td>\n",
       "      <td>Golden State Warriors</td>\n",
       "      <td>67-15</td>\n",
       "      <td>36-5</td>\n",
       "      <td>31-10</td>\n",
       "      <td>25-5</td>\n",
       "      <td>42-10</td>\n",
       "      <td>9-1</td>\n",
       "      <td>8-2</td>\n",
       "      <td>8-2</td>\n",
       "      <td>...</td>\n",
       "      <td>20-6</td>\n",
       "      <td>3-4</td>\n",
       "      <td>48-6</td>\n",
       "      <td>2-1</td>\n",
       "      <td>14-1</td>\n",
       "      <td>13-3</td>\n",
       "      <td>12-2</td>\n",
       "      <td>9-3</td>\n",
       "      <td>12-4</td>\n",
       "      <td>5-1</td>\n",
       "    </tr>\n",
       "    <tr>\n",
       "      <th>1</th>\n",
       "      <td>2</td>\n",
       "      <td>San Antonio Spurs</td>\n",
       "      <td>61-21</td>\n",
       "      <td>31-10</td>\n",
       "      <td>30-11</td>\n",
       "      <td>25-5</td>\n",
       "      <td>36-16</td>\n",
       "      <td>9-1</td>\n",
       "      <td>8-2</td>\n",
       "      <td>8-2</td>\n",
       "      <td>...</td>\n",
       "      <td>18-8</td>\n",
       "      <td>8-5</td>\n",
       "      <td>30-8</td>\n",
       "      <td>4-0</td>\n",
       "      <td>11-4</td>\n",
       "      <td>12-2</td>\n",
       "      <td>10-5</td>\n",
       "      <td>8-2</td>\n",
       "      <td>13-4</td>\n",
       "      <td>3-4</td>\n",
       "    </tr>\n",
       "    <tr>\n",
       "      <th>2</th>\n",
       "      <td>3</td>\n",
       "      <td>Houston Rockets</td>\n",
       "      <td>55-27</td>\n",
       "      <td>30-11</td>\n",
       "      <td>25-16</td>\n",
       "      <td>19-11</td>\n",
       "      <td>36-16</td>\n",
       "      <td>8-2</td>\n",
       "      <td>5-5</td>\n",
       "      <td>6-4</td>\n",
       "      <td>...</td>\n",
       "      <td>15-9</td>\n",
       "      <td>8-3</td>\n",
       "      <td>30-11</td>\n",
       "      <td>2-1</td>\n",
       "      <td>9-6</td>\n",
       "      <td>15-2</td>\n",
       "      <td>10-7</td>\n",
       "      <td>6-3</td>\n",
       "      <td>9-6</td>\n",
       "      <td>4-2</td>\n",
       "    </tr>\n",
       "    <tr>\n",
       "      <th>3</th>\n",
       "      <td>4</td>\n",
       "      <td>Boston Celtics</td>\n",
       "      <td>53-29</td>\n",
       "      <td>30-11</td>\n",
       "      <td>23-18</td>\n",
       "      <td>36-16</td>\n",
       "      <td>17-13</td>\n",
       "      <td>11-5</td>\n",
       "      <td>11-7</td>\n",
       "      <td>14-4</td>\n",
       "      <td>...</td>\n",
       "      <td>16-9</td>\n",
       "      <td>7-6</td>\n",
       "      <td>17-11</td>\n",
       "      <td>2-1</td>\n",
       "      <td>8-7</td>\n",
       "      <td>10-6</td>\n",
       "      <td>10-4</td>\n",
       "      <td>8-4</td>\n",
       "      <td>11-5</td>\n",
       "      <td>4-2</td>\n",
       "    </tr>\n",
       "    <tr>\n",
       "      <th>4</th>\n",
       "      <td>5</td>\n",
       "      <td>Cleveland Cavaliers</td>\n",
       "      <td>51-31</td>\n",
       "      <td>31-10</td>\n",
       "      <td>20-21</td>\n",
       "      <td>35-17</td>\n",
       "      <td>16-14</td>\n",
       "      <td>16-2</td>\n",
       "      <td>8-8</td>\n",
       "      <td>11-7</td>\n",
       "      <td>...</td>\n",
       "      <td>12-15</td>\n",
       "      <td>3-4</td>\n",
       "      <td>25-15</td>\n",
       "      <td>3-0</td>\n",
       "      <td>10-3</td>\n",
       "      <td>12-4</td>\n",
       "      <td>7-8</td>\n",
       "      <td>9-2</td>\n",
       "      <td>7-10</td>\n",
       "      <td>3-4</td>\n",
       "    </tr>\n",
       "  </tbody>\n",
       "</table>\n",
       "<p>5 rows × 24 columns</p>\n",
       "</div>"
      ],
      "text/plain": [
       "   Rk                   Team Overall   Home   Road      E      W     A     C  \\\n",
       "0   1  Golden State Warriors   67-15   36-5  31-10   25-5  42-10   9-1   8-2   \n",
       "1   2      San Antonio Spurs   61-21  31-10  30-11   25-5  36-16   9-1   8-2   \n",
       "2   3        Houston Rockets   55-27  30-11  25-16  19-11  36-16   8-2   5-5   \n",
       "3   4         Boston Celtics   53-29  30-11  23-18  36-16  17-13  11-5  11-7   \n",
       "4   5    Cleveland Cavaliers   51-31  31-10  20-21  35-17  16-14  16-2   8-8   \n",
       "\n",
       "     SE ...    Post   ≤3    ≥10  Oct   Nov   Dec   Jan  Feb   Mar  Apr  \n",
       "0   8-2 ...    20-6  3-4   48-6  2-1  14-1  13-3  12-2  9-3  12-4  5-1  \n",
       "1   8-2 ...    18-8  8-5   30-8  4-0  11-4  12-2  10-5  8-2  13-4  3-4  \n",
       "2   6-4 ...    15-9  8-3  30-11  2-1   9-6  15-2  10-7  6-3   9-6  4-2  \n",
       "3  14-4 ...    16-9  7-6  17-11  2-1   8-7  10-6  10-4  8-4  11-5  4-2  \n",
       "4  11-7 ...   12-15  3-4  25-15  3-0  10-3  12-4   7-8  9-2  7-10  3-4  \n",
       "\n",
       "[5 rows x 24 columns]"
      ]
     },
     "execution_count": 86,
     "metadata": {},
     "output_type": "execute_result"
    }
   ],
   "source": [
    "convert_to_csv('1617_standings')\n",
    "standings = pd.read_csv('1617_standings.csv')\n",
    "standings.head()"
   ]
  },
  {
   "cell_type": "code",
   "execution_count": 87,
   "metadata": {},
   "outputs": [
    {
     "data": {
      "text/html": [
       "<div>\n",
       "<style scoped>\n",
       "    .dataframe tbody tr th:only-of-type {\n",
       "        vertical-align: middle;\n",
       "    }\n",
       "\n",
       "    .dataframe tbody tr th {\n",
       "        vertical-align: top;\n",
       "    }\n",
       "\n",
       "    .dataframe thead th {\n",
       "        text-align: right;\n",
       "    }\n",
       "</style>\n",
       "<table border=\"1\" class=\"dataframe\">\n",
       "  <thead>\n",
       "    <tr style=\"text-align: right;\">\n",
       "      <th></th>\n",
       "      <th>0</th>\n",
       "      <th>teams_x</th>\n",
       "    </tr>\n",
       "  </thead>\n",
       "  <tbody>\n",
       "    <tr>\n",
       "      <th>0</th>\n",
       "      <td>Golden State Warriors</td>\n",
       "      <td>CLE</td>\n",
       "    </tr>\n",
       "    <tr>\n",
       "      <th>1</th>\n",
       "      <td>San Antonio Spurs</td>\n",
       "      <td>GSW</td>\n",
       "    </tr>\n",
       "    <tr>\n",
       "      <th>2</th>\n",
       "      <td>Houston Rockets</td>\n",
       "      <td>POR</td>\n",
       "    </tr>\n",
       "    <tr>\n",
       "      <th>3</th>\n",
       "      <td>Boston Celtics</td>\n",
       "      <td>LAC</td>\n",
       "    </tr>\n",
       "    <tr>\n",
       "      <th>4</th>\n",
       "      <td>Cleveland Cavaliers</td>\n",
       "      <td>DEN</td>\n",
       "    </tr>\n",
       "    <tr>\n",
       "      <th>5</th>\n",
       "      <td>Los Angeles Clippers</td>\n",
       "      <td>MIA</td>\n",
       "    </tr>\n",
       "    <tr>\n",
       "      <th>6</th>\n",
       "      <td>Toronto Raptors</td>\n",
       "      <td>BOS</td>\n",
       "    </tr>\n",
       "    <tr>\n",
       "      <th>7</th>\n",
       "      <td>Utah Jazz</td>\n",
       "      <td>HOU</td>\n",
       "    </tr>\n",
       "    <tr>\n",
       "      <th>8</th>\n",
       "      <td>Washington Wizards</td>\n",
       "      <td>DAL</td>\n",
       "    </tr>\n",
       "    <tr>\n",
       "      <th>9</th>\n",
       "      <td>Oklahoma City Thunder</td>\n",
       "      <td>CHO</td>\n",
       "    </tr>\n",
       "    <tr>\n",
       "      <th>10</th>\n",
       "      <td>Atlanta Hawks</td>\n",
       "      <td>PHI</td>\n",
       "    </tr>\n",
       "    <tr>\n",
       "      <th>11</th>\n",
       "      <td>Memphis Grizzlies</td>\n",
       "      <td>BRK</td>\n",
       "    </tr>\n",
       "    <tr>\n",
       "      <th>12</th>\n",
       "      <td>Indiana Pacers</td>\n",
       "      <td>NaN</td>\n",
       "    </tr>\n",
       "    <tr>\n",
       "      <th>13</th>\n",
       "      <td>Milwaukee Bucks</td>\n",
       "      <td>NaN</td>\n",
       "    </tr>\n",
       "    <tr>\n",
       "      <th>14</th>\n",
       "      <td>Chicago Bulls</td>\n",
       "      <td>NaN</td>\n",
       "    </tr>\n",
       "    <tr>\n",
       "      <th>15</th>\n",
       "      <td>Portland Trail Blazers</td>\n",
       "      <td>NaN</td>\n",
       "    </tr>\n",
       "  </tbody>\n",
       "</table>\n",
       "</div>"
      ],
      "text/plain": [
       "                         0 teams_x\n",
       "0    Golden State Warriors     CLE\n",
       "1        San Antonio Spurs     GSW\n",
       "2          Houston Rockets     POR\n",
       "3           Boston Celtics     LAC\n",
       "4      Cleveland Cavaliers     DEN\n",
       "5     Los Angeles Clippers     MIA\n",
       "6          Toronto Raptors     BOS\n",
       "7                Utah Jazz     HOU\n",
       "8       Washington Wizards     DAL\n",
       "9    Oklahoma City Thunder     CHO\n",
       "10           Atlanta Hawks     PHI\n",
       "11       Memphis Grizzlies     BRK\n",
       "12          Indiana Pacers     NaN\n",
       "13         Milwaukee Bucks     NaN\n",
       "14           Chicago Bulls     NaN\n",
       "15  Portland Trail Blazers     NaN"
      ]
     },
     "execution_count": 87,
     "metadata": {},
     "output_type": "execute_result"
    }
   ],
   "source": [
    "mix = pd.merge(above_ave, teams, how='inner', on=['TP'])\n",
    "pd.concat([pd.Series(standings[0:16]['Team'].values), mix['teams_x']], axis=1)"
   ]
  },
  {
   "cell_type": "markdown",
   "metadata": {},
   "source": [
    "## observation\n",
    "\n",
    "It turns out even if a team makes an above league average amount of 3s and shooting at an above average % it doesn't necessarily guarantee them a spot in the playoffs."
   ]
  },
  {
   "cell_type": "markdown",
   "metadata": {},
   "source": [
    "## More exploration..."
   ]
  },
  {
   "cell_type": "code",
   "execution_count": 88,
   "metadata": {},
   "outputs": [
    {
     "data": {
      "image/png": "[encoded data removed]",
      "text/plain": [
       "<matplotlib.figure.Figure at 0x187dd37c048>"
      ]
     },
     "metadata": {},
     "output_type": "display_data"
    }
   ],
   "source": [
    "#looking for the number of assists by each position\n",
    "\n",
    "fig, ax =plt.subplots(2,2)\n",
    "pt = crop_data[['Pos', 'BLK']]\n",
    "positions = ['C', 'PF', 'PG', 'SF', 'SG', 'SG-PG', 'SF-SG', 'SG-SF', 'C-PF',\n",
    "   'PF-C', 'SF-PF', 'PG-SG', 'PF-SF', 'PG-SF', 'SG-PF', 'C-SF']\n",
    "for i in positions:\n",
    "    ps = i.split('-')\n",
    "    for j in ps:\n",
    "        pos_df[j] += sum(pt[pt.Pos == i]['BLK'])\n",
    "results = pd.DataFrame({'Pos':positions[0:5],'BLK':pos_df})\n",
    "results\n",
    "ax1 = sns.barplot(x='Pos', y='BLK', data=results, ax = ax[0][0])\n",
    "fig.subplots_adjust(wspace=0.5)\n",
    "fig.subplots_adjust(hspace=0.5)\n",
    "\n",
    "dict = {'C':0, 'PF':0, 'PG':0, 'SG':0, 'SF':0 }\n",
    "pos_df = pd.Series(dict)\n",
    "posa_df = pd.Series(dict)\n",
    "\n",
    "pt = crop_data[['Pos', 'AST']]\n",
    "positions = ['C', 'PF', 'PG', 'SF', 'SG', 'SG-PG', 'SF-SG', 'SG-SF', 'C-PF',\n",
    "   'PF-C', 'SF-PF', 'PG-SG', 'PF-SF', 'PG-SF', 'SG-PF', 'C-SF']\n",
    "for i in positions:\n",
    "    ps = i.split('-')\n",
    "    for j in ps:\n",
    "        pos_df[j] += sum(pt[pt.Pos == i]['AST'])\n",
    "results = pd.DataFrame({'Pos':positions[0:5],'AST':pos_df})\n",
    "results\n",
    "ax1 = sns.barplot(x='Pos', y='AST', data=results, ax=ax[0][1])\n",
    "\n",
    "dict = {'C':0, 'PF':0, 'PG':0, 'SG':0, 'SF':0 }\n",
    "pos_df = pd.Series(dict)\n",
    "posa_df = pd.Series(dict)\n",
    "# ax1 = sns.barplot(x='Pos', y='STL', data=results, ax = ax[2])\n",
    "# fig.subplots_adjust(wspace=0.5)\n",
    "pt = crop_data[['Pos', 'STL']]\n",
    "positions = ['C', 'PF', 'PG', 'SF', 'SG', 'SG-PG', 'SF-SG', 'SG-SF', 'C-PF',\n",
    "   'PF-C', 'SF-PF', 'PG-SG', 'PF-SF', 'PG-SF', 'SG-PF', 'C-SF']\n",
    "for i in positions:\n",
    "    ps = i.split('-')\n",
    "    for j in ps:\n",
    "        pos_df[j] += sum(pt[pt.Pos == i]['STL'])\n",
    "results = pd.DataFrame({'Pos':positions[0:5],'STL':pos_df})\n",
    "results\n",
    "ax1 = sns.barplot(x='Pos', y='STL', data=results, ax=ax[1][0])\n",
    "\n",
    "dict = {'C':0, 'PF':0, 'PG':0, 'SG':0, 'SF':0 }\n",
    "pos_df = pd.Series(dict)\n",
    "posa_df = pd.Series(dict)\n",
    "\n",
    "\n",
    "pt = crop_data[['Pos', 'TRB']]\n",
    "positions = ['C', 'PF', 'PG', 'SF', 'SG', 'SG-PG', 'SF-SG', 'SG-SF', 'C-PF',\n",
    "   'PF-C', 'SF-PF', 'PG-SG', 'PF-SF', 'PG-SF', 'SG-PF', 'C-SF']\n",
    "for i in positions:\n",
    "    ps = i.split('-')\n",
    "    for j in ps:\n",
    "        pos_df[j] += sum(pt[pt.Pos == i]['TRB'])\n",
    "results = pd.DataFrame({'Pos':positions[0:5],'TRB':pos_df})\n",
    "results\n",
    "ax1 = sns.barplot(x='Pos', y='TRB', data=results, ax=ax[1][1])"
   ]
  },
  {
   "cell_type": "markdown",
   "metadata": {},
   "source": [
    "#### Now that we have explored the data a little we want to look at some advanced NBA stats and see if they contribute to the Selection of MVP candidates"
   ]
  },
  {
   "cell_type": "markdown",
   "metadata": {},
   "source": [
    "<p>\n",
    "<img src=\"mvp.jpg\" width = \"600\">\n",
    "<em>Stephen Curry of Golden State Warriors, the first ever NBA unanimous MVP</em>\n",
    "</p>"
   ]
  },
  {
   "cell_type": "markdown",
   "metadata": {},
   "source": [
    "Let's isolate the core team players(we consider the core players to be the players that play at least 30 minutes per game), as they are only ones can be considered for the MVP award. To start off we'll look at data from 2017"
   ]
  },
  {
   "cell_type": "code",
   "execution_count": 89,
   "metadata": {},
   "outputs": [
    {
     "data": {
      "text/html": [
       "<div>\n",
       "<style scoped>\n",
       "    .dataframe tbody tr th:only-of-type {\n",
       "        vertical-align: middle;\n",
       "    }\n",
       "\n",
       "    .dataframe tbody tr th {\n",
       "        vertical-align: top;\n",
       "    }\n",
       "\n",
       "    .dataframe thead th {\n",
       "        text-align: right;\n",
       "    }\n",
       "</style>\n",
       "<table border=\"1\" class=\"dataframe\">\n",
       "  <thead>\n",
       "    <tr style=\"text-align: right;\">\n",
       "      <th></th>\n",
       "      <th>Player</th>\n",
       "      <th>Pos</th>\n",
       "      <th>Age</th>\n",
       "      <th>Tm</th>\n",
       "      <th>G</th>\n",
       "      <th>GS</th>\n",
       "      <th>MP</th>\n",
       "      <th>PER</th>\n",
       "      <th>TS%</th>\n",
       "      <th>3PAr</th>\n",
       "      <th>...</th>\n",
       "      <th>DRB</th>\n",
       "      <th>TRB</th>\n",
       "      <th>AST</th>\n",
       "      <th>STL</th>\n",
       "      <th>BLK</th>\n",
       "      <th>TOV</th>\n",
       "      <th>PF</th>\n",
       "      <th>PTS</th>\n",
       "      <th>height</th>\n",
       "      <th>weight</th>\n",
       "    </tr>\n",
       "    <tr>\n",
       "      <th>Year</th>\n",
       "      <th></th>\n",
       "      <th></th>\n",
       "      <th></th>\n",
       "      <th></th>\n",
       "      <th></th>\n",
       "      <th></th>\n",
       "      <th></th>\n",
       "      <th></th>\n",
       "      <th></th>\n",
       "      <th></th>\n",
       "      <th></th>\n",
       "      <th></th>\n",
       "      <th></th>\n",
       "      <th></th>\n",
       "      <th></th>\n",
       "      <th></th>\n",
       "      <th></th>\n",
       "      <th></th>\n",
       "      <th></th>\n",
       "      <th></th>\n",
       "      <th></th>\n",
       "    </tr>\n",
       "  </thead>\n",
       "  <tbody>\n",
       "    <tr>\n",
       "      <th>2017.0</th>\n",
       "      <td>LaMarcus Aldridge</td>\n",
       "      <td>PF</td>\n",
       "      <td>31.0</td>\n",
       "      <td>SAS</td>\n",
       "      <td>72.0</td>\n",
       "      <td>72.0</td>\n",
       "      <td>2335.0</td>\n",
       "      <td>18.6</td>\n",
       "      <td>0.532</td>\n",
       "      <td>0.053</td>\n",
       "      <td>...</td>\n",
       "      <td>350.0</td>\n",
       "      <td>524.0</td>\n",
       "      <td>139.0</td>\n",
       "      <td>46.0</td>\n",
       "      <td>89.0</td>\n",
       "      <td>98.0</td>\n",
       "      <td>158.0</td>\n",
       "      <td>1243.0</td>\n",
       "      <td>211.0</td>\n",
       "      <td>117.0</td>\n",
       "    </tr>\n",
       "    <tr>\n",
       "      <th>2017.0</th>\n",
       "      <td>Giannis Antetokounmpo</td>\n",
       "      <td>SF</td>\n",
       "      <td>22.0</td>\n",
       "      <td>MIL</td>\n",
       "      <td>80.0</td>\n",
       "      <td>80.0</td>\n",
       "      <td>2845.0</td>\n",
       "      <td>26.1</td>\n",
       "      <td>0.599</td>\n",
       "      <td>0.143</td>\n",
       "      <td>...</td>\n",
       "      <td>558.0</td>\n",
       "      <td>700.0</td>\n",
       "      <td>434.0</td>\n",
       "      <td>131.0</td>\n",
       "      <td>151.0</td>\n",
       "      <td>234.0</td>\n",
       "      <td>246.0</td>\n",
       "      <td>1832.0</td>\n",
       "      <td>211.0</td>\n",
       "      <td>100.0</td>\n",
       "    </tr>\n",
       "    <tr>\n",
       "      <th>2017.0</th>\n",
       "      <td>Carmelo Anthony</td>\n",
       "      <td>SF</td>\n",
       "      <td>32.0</td>\n",
       "      <td>NYK</td>\n",
       "      <td>74.0</td>\n",
       "      <td>74.0</td>\n",
       "      <td>2538.0</td>\n",
       "      <td>17.9</td>\n",
       "      <td>0.535</td>\n",
       "      <td>0.303</td>\n",
       "      <td>...</td>\n",
       "      <td>374.0</td>\n",
       "      <td>436.0</td>\n",
       "      <td>213.0</td>\n",
       "      <td>60.0</td>\n",
       "      <td>34.0</td>\n",
       "      <td>153.0</td>\n",
       "      <td>198.0</td>\n",
       "      <td>1659.0</td>\n",
       "      <td>203.0</td>\n",
       "      <td>108.0</td>\n",
       "    </tr>\n",
       "    <tr>\n",
       "      <th>2017.0</th>\n",
       "      <td>Trevor Ariza</td>\n",
       "      <td>SF</td>\n",
       "      <td>31.0</td>\n",
       "      <td>HOU</td>\n",
       "      <td>80.0</td>\n",
       "      <td>80.0</td>\n",
       "      <td>2773.0</td>\n",
       "      <td>12.3</td>\n",
       "      <td>0.548</td>\n",
       "      <td>0.695</td>\n",
       "      <td>...</td>\n",
       "      <td>405.0</td>\n",
       "      <td>459.0</td>\n",
       "      <td>175.0</td>\n",
       "      <td>147.0</td>\n",
       "      <td>20.0</td>\n",
       "      <td>74.0</td>\n",
       "      <td>133.0</td>\n",
       "      <td>936.0</td>\n",
       "      <td>203.0</td>\n",
       "      <td>97.0</td>\n",
       "    </tr>\n",
       "    <tr>\n",
       "      <th>2017.0</th>\n",
       "      <td>Harrison Barnes</td>\n",
       "      <td>PF</td>\n",
       "      <td>24.0</td>\n",
       "      <td>DAL</td>\n",
       "      <td>79.0</td>\n",
       "      <td>79.0</td>\n",
       "      <td>2803.0</td>\n",
       "      <td>16.3</td>\n",
       "      <td>0.541</td>\n",
       "      <td>0.173</td>\n",
       "      <td>...</td>\n",
       "      <td>303.0</td>\n",
       "      <td>397.0</td>\n",
       "      <td>117.0</td>\n",
       "      <td>66.0</td>\n",
       "      <td>15.0</td>\n",
       "      <td>102.0</td>\n",
       "      <td>128.0</td>\n",
       "      <td>1518.0</td>\n",
       "      <td>190.0</td>\n",
       "      <td>92.0</td>\n",
       "    </tr>\n",
       "  </tbody>\n",
       "</table>\n",
       "<p>5 rows × 53 columns</p>\n",
       "</div>"
      ],
      "text/plain": [
       "                       Player Pos   Age   Tm     G    GS      MP   PER    TS%  \\\n",
       "Year                                                                            \n",
       "2017.0      LaMarcus Aldridge  PF  31.0  SAS  72.0  72.0  2335.0  18.6  0.532   \n",
       "2017.0  Giannis Antetokounmpo  SF  22.0  MIL  80.0  80.0  2845.0  26.1  0.599   \n",
       "2017.0        Carmelo Anthony  SF  32.0  NYK  74.0  74.0  2538.0  17.9  0.535   \n",
       "2017.0           Trevor Ariza  SF  31.0  HOU  80.0  80.0  2773.0  12.3  0.548   \n",
       "2017.0        Harrison Barnes  PF  24.0  DAL  79.0  79.0  2803.0  16.3  0.541   \n",
       "\n",
       "         3PAr   ...      DRB    TRB    AST    STL    BLK    TOV     PF  \\\n",
       "Year            ...                                                      \n",
       "2017.0  0.053   ...    350.0  524.0  139.0   46.0   89.0   98.0  158.0   \n",
       "2017.0  0.143   ...    558.0  700.0  434.0  131.0  151.0  234.0  246.0   \n",
       "2017.0  0.303   ...    374.0  436.0  213.0   60.0   34.0  153.0  198.0   \n",
       "2017.0  0.695   ...    405.0  459.0  175.0  147.0   20.0   74.0  133.0   \n",
       "2017.0  0.173   ...    303.0  397.0  117.0   66.0   15.0  102.0  128.0   \n",
       "\n",
       "           PTS  height  weight  \n",
       "Year                            \n",
       "2017.0  1243.0   211.0   117.0  \n",
       "2017.0  1832.0   211.0   100.0  \n",
       "2017.0  1659.0   203.0   108.0  \n",
       "2017.0   936.0   203.0    97.0  \n",
       "2017.0  1518.0   190.0    92.0  \n",
       "\n",
       "[5 rows x 53 columns]"
      ]
     },
     "execution_count": 89,
     "metadata": {},
     "output_type": "execute_result"
    }
   ],
   "source": [
    "core_players = crop_data.loc[2017]\n",
    "core_players = core_players[core_players.MP/core_players.G >= 30]\n",
    "core_players.head()"
   ]
  },
  {
   "cell_type": "markdown",
   "metadata": {},
   "source": [
    "Firstly, let's look at the scoring leaders for 2017 in term of points per game(ppg)"
   ]
  },
  {
   "cell_type": "code",
   "execution_count": 90,
   "metadata": {},
   "outputs": [
    {
     "name": "stdout",
     "output_type": "stream",
     "text": [
      "['Russell Westbrook' 'James Harden' 'Isaiah Thomas' 'Anthony Davis'\n",
      " 'DeMarcus Cousins' 'DeMar DeRozan' 'Damian Lillard' 'DeMarcus Cousins'\n",
      " 'LeBron James' 'Kawhi Leonard' 'Stephen Curry' 'Kyrie Irving'\n",
      " 'Karl-Anthony Towns' 'Kevin Durant' 'DeMarcus Cousins']\n"
     ]
    },
    {
     "data": {
      "text/plain": [
       "Text(0.5,0,'PPG')"
      ]
     },
     "execution_count": 90,
     "metadata": {},
     "output_type": "execute_result"
    },
    {
     "data": {
      "image/png": "[encoded data removed]",
      "text/plain": [
       "<matplotlib.figure.Figure at 0x187df9a1668>"
      ]
     },
     "metadata": {},
     "output_type": "display_data"
    }
   ],
   "source": [
    "core_players['ppg'] = core_players.PTS/core_players.G\n",
    "sorted_players = core_players.sort_values('ppg', ascending=False)\n",
    "print(sorted_players['Player'].values[0:15])\n",
    "ax =sns.barplot(sorted_players['ppg'].values[0:15],sorted_players['Player'].values[0:15])\n",
    "ax.set_xlabel(\"PPG\")"
   ]
  },
  {
   "cell_type": "markdown",
   "metadata": {},
   "source": [
    "Firstly we look at **Win Shares(WS)** and how they relate to a player's points per game(ppg)"
   ]
  },
  {
   "cell_type": "markdown",
   "metadata": {},
   "source": [
    "\"**Win Shares** is a player statistic which attempts to divvy up credit for team success to the individuals on the team\" - [Basketball Reference](https://www.basketball-reference.com/about/ws.html)"
   ]
  },
  {
   "cell_type": "code",
   "execution_count": 91,
   "metadata": {},
   "outputs": [
    {
     "data": {
      "text/plain": [
       "Text(0.5,1,'WS vs PPG')"
      ]
     },
     "execution_count": 91,
     "metadata": {},
     "output_type": "execute_result"
    },
    {
     "data": {
      "image/png": "[encoded data removed]",
      "text/plain": [
       "<matplotlib.figure.Figure at 0x187df7ae400>"
      ]
     },
     "metadata": {},
     "output_type": "display_data"
    }
   ],
   "source": [
    "plt.plot(core_players.WS.values, \n",
    "         (core_players['PTS']/core_players['G']).values, 'o')\n",
    "plt.xlabel(\"win shares(ws)\")\n",
    "plt.ylabel(\"points per game(PPG)\")\n",
    "plt.title(\"WS vs PPG\")"
   ]
  },
  {
   "cell_type": "markdown",
   "metadata": {},
   "source": [
    "It seems like there is some correlation between the two. Let's have a look"
   ]
  },
  {
   "cell_type": "code",
   "execution_count": 92,
   "metadata": {},
   "outputs": [
    {
     "data": {
      "text/plain": [
       "(0.5649794501811377, 8.041574653480185e-09)"
      ]
     },
     "execution_count": 92,
     "metadata": {},
     "output_type": "execute_result"
    }
   ],
   "source": [
    "from scipy.stats.stats import pearsonr\n",
    "pearsonr(core_players.WS.values, \n",
    "         (core_players['PTS']/core_players['G']).values)"
   ]
  },
  {
   "cell_type": "markdown",
   "metadata": {},
   "source": [
    "Just as in the plot, the win shares and points per game are correlated. The data is largely scattered though. Some players who score less than the scoring leaders have higher win shares. Maybe this is were things like Assists per game come in. Let's have a quick look"
   ]
  },
  {
   "cell_type": "code",
   "execution_count": 93,
   "metadata": {},
   "outputs": [
    {
     "data": {
      "text/plain": [
       "(0.41710619085846473, 4.776450264532594e-05)"
      ]
     },
     "execution_count": 93,
     "metadata": {},
     "output_type": "execute_result"
    },
    {
     "data": {
      "image/png": "[encoded data removed]",
      "text/plain": [
       "<matplotlib.figure.Figure at 0x187e3715be0>"
      ]
     },
     "metadata": {},
     "output_type": "display_data"
    }
   ],
   "source": [
    "plt.plot(core_players.WS.values, \n",
    "         (core_players['AST']/core_players['G']).values, 'o')\n",
    "plt.xlabel(\"win shares(ws)\")\n",
    "plt.ylabel(\"assists per game(APG)\")\n",
    "plt.title(\"WS vs APG\")\n",
    "pearsonr(core_players.WS.values, \n",
    "         (core_players['AST']/core_players['G']).values)"
   ]
  },
  {
   "cell_type": "markdown",
   "metadata": {},
   "source": [
    "There seems to be a contribution made by assists to win shares, although the correlation is not largely positive "
   ]
  },
  {
   "cell_type": "markdown",
   "metadata": {},
   "source": [
    "The next statistic we would like to look at is **box plus/minus**. According to [Basketball Reference](https://www.basketball-reference.com/about/ws.html), \"**Box Plus/Minus (BPM)** is a box score-based metric for evaluating basketball players' quality and contribution to the team.\""
   ]
  },
  {
   "cell_type": "code",
   "execution_count": 94,
   "metadata": {},
   "outputs": [
    {
     "data": {
      "text/plain": [
       "Text(0.5,1,'BPM vs WS')"
      ]
     },
     "execution_count": 94,
     "metadata": {},
     "output_type": "execute_result"
    },
    {
     "data": {
      "image/png": "[encoded data removed]",
      "text/plain": [
       "<matplotlib.figure.Figure at 0x187dfa848d0>"
      ]
     },
     "metadata": {},
     "output_type": "display_data"
    }
   ],
   "source": [
    "plt.plot(core_players.WS.values, \n",
    "         core_players['BPM'], 'o')\n",
    "plt.xlabel(\"win shares(ws)\")\n",
    "plt.ylabel(\"BPM\")\n",
    "plt.title(\"BPM vs WS\")"
   ]
  },
  {
   "cell_type": "markdown",
   "metadata": {},
   "source": [
    "looking at the data there seems to be a positive correlation between win shares and box plus/minus, let's run pearson's correlation coefficient to check this"
   ]
  },
  {
   "cell_type": "code",
   "execution_count": 95,
   "metadata": {},
   "outputs": [
    {
     "data": {
      "text/plain": [
       "(0.8088340280100841, 9.093584164911727e-22)"
      ]
     },
     "execution_count": 95,
     "metadata": {},
     "output_type": "execute_result"
    }
   ],
   "source": [
    "pearsonr(core_players.WS.values,core_players.BPM)"
   ]
  },
  {
   "cell_type": "markdown",
   "metadata": {},
   "source": [
    "No surprise, pearson's correlation is quite high, which shows that the is a relationship between the two. Could it be that BPM is related to the number of points as well, by the transitive property? Let's have a look"
   ]
  },
  {
   "cell_type": "code",
   "execution_count": 96,
   "metadata": {},
   "outputs": [
    {
     "data": {
      "text/plain": [
       "(0.5755050031966296, 3.6453669903113444e-09)"
      ]
     },
     "execution_count": 96,
     "metadata": {},
     "output_type": "execute_result"
    },
    {
     "data": {
      "image/png": "[encoded data removed]",
      "text/plain": [
       "<matplotlib.figure.Figure at 0x187dfa924e0>"
      ]
     },
     "metadata": {},
     "output_type": "display_data"
    }
   ],
   "source": [
    "plt.plot((core_players['PTS']/core_players['G']).values,core_players.BPM.values, 'o')\n",
    "plt.ylabel(\"BPM\")\n",
    "plt.xlabel(\"points per game(PPG)\")\n",
    "plt.title(\"BPM vs PPG\")\n",
    "pearsonr((core_players['PTS']/core_players['G']).values,core_players.BPM)"
   ]
  },
  {
   "cell_type": "markdown",
   "metadata": {},
   "source": [
    "So logically speaking players who score more for their teams end up with a higher BPM and WS.\n",
    "Let's just take a look at the players who led the BPM score in 2017"
   ]
  },
  {
   "cell_type": "code",
   "execution_count": 97,
   "metadata": {},
   "outputs": [
    {
     "data": {
      "text/plain": [
       "Text(0.5,0,'BPM')"
      ]
     },
     "execution_count": 97,
     "metadata": {},
     "output_type": "execute_result"
    },
    {
     "data": {
      "image/png": "[encoded data removed]",
      "text/plain": [
       "<matplotlib.figure.Figure at 0x187dd398208>"
      ]
     },
     "metadata": {},
     "output_type": "display_data"
    }
   ],
   "source": [
    "sorted_players = core_players.sort_values('BPM', ascending=False)\n",
    "bpm_pg = sorted_players.BPM\n",
    "\n",
    "ax =sns.barplot(bpm_pg.values[0:15],sorted_players['Player'].values[0:15])\n",
    "ax.set_xlabel(\"BPM\")"
   ]
  },
  {
   "cell_type": "markdown",
   "metadata": {},
   "source": [
    "Interesting to note that Russell Westbrook is the player with highest BPM.\n",
    "\n",
    "**UP NEXT... PER**\n",
    "\n",
    "'The **Player Efficiency Rating (PER)** is a per-minute rating developed by ESPN.com columnist John Hollinger. In John's words, \"The PER sums up all a player's positive accomplishments, subtracts the negative accomplishments, and returns a per-minute rating of a player's performance.\"' - [Basketball Reference](https://www.basketball-reference.com/about/ws.html)\n",
    "\n",
    "Is PER also related to the previously discussed statistics as well?"
   ]
  },
  {
   "cell_type": "code",
   "execution_count": 98,
   "metadata": {},
   "outputs": [
    {
     "data": {
      "text/plain": [
       "(0.8345548063219889, 3.0368033749387045e-24)"
      ]
     },
     "execution_count": 98,
     "metadata": {},
     "output_type": "execute_result"
    },
    {
     "data": {
      "image/png": "[encoded data removed]",
      "text/plain": [
       "<matplotlib.figure.Figure at 0x187e3735f60>"
      ]
     },
     "metadata": {},
     "output_type": "display_data"
    }
   ],
   "source": [
    "plt.plot((core_players['PTS']/core_players['G']).values,core_players.PER.values, 'o')\n",
    "plt.ylabel(\"PER\")\n",
    "plt.xlabel(\"points per game(PPG)\")\n",
    "plt.title(\"PER vs PPG\")\n",
    "pearsonr((core_players['PTS']/core_players['G']).values,core_players.PER)"
   ]
  },
  {
   "cell_type": "markdown",
   "metadata": {},
   "source": [
    "PER has a positive correlation with points per game, I guess we can now assume given the evidence that it is positively correlated to BPM and WS as well... Let's just look at who is leading the PER race."
   ]
  },
  {
   "cell_type": "code",
   "execution_count": 99,
   "metadata": {},
   "outputs": [
    {
     "data": {
      "text/plain": [
       "Text(0.5,0,'PER')"
      ]
     },
     "execution_count": 99,
     "metadata": {},
     "output_type": "execute_result"
    },
    {
     "data": {
      "image/png": "[encoded data removed]",
      "text/plain": [
       "<matplotlib.figure.Figure at 0x187df3fe320>"
      ]
     },
     "metadata": {},
     "output_type": "display_data"
    }
   ],
   "source": [
    "sorted_players = core_players.sort_values('PER', ascending=False)\n",
    "bpm_pg = sorted_players.PER\n",
    "\n",
    "ax =sns.barplot(bpm_pg.values[0:15],sorted_players['Player'].values[0:15])\n",
    "ax.set_xlabel(\"PER\")"
   ]
  },
  {
   "cell_type": "markdown",
   "metadata": {},
   "source": [
    "Once again Russell Westbrook is the leader in this category"
   ]
  },
  {
   "cell_type": "markdown",
   "metadata": {},
   "source": [
    "Below is a function to rate players by PER, this rating system was introduced by John Hollinger , [Holligers player efficiency rating](https://en.wikipedia.org/wiki/Player_efficiency_rating)"
   ]
  },
  {
   "cell_type": "code",
   "execution_count": 100,
   "metadata": {},
   "outputs": [],
   "source": [
    "def mvpCandidate(x):\n",
    "    if x >= 35.0:\n",
    "        return 'All-Time Great Season'\n",
    "    elif x >= 30.0:\n",
    "        return 'Runaway MVP'\n",
    "    elif x >= 27.5:\n",
    "        return 'Strong MVP candidate'\n",
    "    elif x >= 25:\n",
    "        return 'Weak MVP candidate'\n",
    "    else:\n",
    "        return 'Not MVP candidate'"
   ]
  },
  {
   "cell_type": "code",
   "execution_count": 101,
   "metadata": {},
   "outputs": [
    {
     "name": "stdout",
     "output_type": "stream",
     "text": [
      "2017 MVP according to the PER rating is: Russell Westbrook\n"
     ]
    }
   ],
   "source": [
    "core_players['MVP candidacy'] = core_players['PER'].apply(mvpCandidate)\n",
    "mvps = core_players.sort_values(\"PER\", ascending=False).reset_index()\n",
    "print('2017 MVP according to the PER rating is: '+ mvps.loc[0].Player)"
   ]
  },
  {
   "cell_type": "markdown",
   "metadata": {},
   "source": [
    "The data from 2017 reveals that, the player with the heighest PER won the mvp award in 2017"
   ]
  },
  {
   "cell_type": "code",
   "execution_count": 102,
   "metadata": {},
   "outputs": [
    {
     "name": "stdout",
     "output_type": "stream",
     "text": [
      "****** 2017 ******\n",
      "2017.0   Russell Westbrook  is a Runaway MVP\n",
      "2017.0   Kevin Durant  is a Strong MVP candidate\n",
      "2017.0   Kawhi Leonard  is a Strong MVP candidate\n",
      "****** 2016 ******\n",
      "2016.0   Stephen Curry  is a Runaway MVP\n",
      "2016.0   Kevin Durant  is a Strong MVP candidate\n",
      "2016.0   Russell Westbrook  is a Strong MVP candidate\n",
      "****** 2015 ******\n",
      "2015.0   Anthony Davis  is a Runaway MVP\n",
      "2015.0   Russell Westbrook  is a Strong MVP candidate\n",
      "2015.0   Stephen Curry  is a Strong MVP candidate\n",
      "****** 2014 ******\n",
      "2014.0   Kevin Durant  is a Strong MVP candidate\n",
      "2014.0   LeBron James  is a Strong MVP candidate\n",
      "2014.0   Kevin Love  is a Weak MVP candidate\n",
      "****** 2013 ******\n",
      "2013.0   LeBron James  is a Runaway MVP\n",
      "2013.0   Kevin Durant  is a Strong MVP candidate\n",
      "2013.0   Chris Paul  is a Weak MVP candidate\n",
      "****** 2012 ******\n",
      "2012.0   LeBron James  is a Runaway MVP\n",
      "2012.0   Chris Paul  is a Weak MVP candidate\n",
      "2012.0   Dwyane Wade  is a Weak MVP candidate\n",
      "****** 2011 ******\n",
      "2011.0   LeBron James  is a Weak MVP candidate\n",
      "2011.0   Dwight Howard  is a Weak MVP candidate\n",
      "2011.0   Dwyane Wade  is a Weak MVP candidate\n",
      "****** 2010 ******\n",
      "2010.0   LeBron James  is a Runaway MVP\n",
      "2010.0   Dwyane Wade  is a Strong MVP candidate\n",
      "2010.0   Kevin Durant  is a Weak MVP candidate\n",
      "****** 2009 ******\n",
      "2009.0   LeBron James  is a Runaway MVP\n",
      "2009.0   Dwyane Wade  is a Runaway MVP\n",
      "2009.0   Chris Paul  is a Runaway MVP\n",
      "****** 2008 ******\n",
      "2008.0   LeBron James  is a Strong MVP candidate\n",
      "2008.0   Chris Paul  is a Strong MVP candidate\n",
      "2008.0   Amar'e Stoudemire  is a Strong MVP candidate\n",
      "****** 2007 ******\n",
      "2007.0   Dwyane Wade  is a Strong MVP candidate\n",
      "2007.0   Dirk Nowitzki  is a Strong MVP candidate\n",
      "2007.0   Yao Ming*  is a Weak MVP candidate\n",
      "****** 2006 ******\n",
      "2006.0   LeBron James  is a Strong MVP candidate\n",
      "2006.0   Dirk Nowitzki  is a Strong MVP candidate\n",
      "2006.0   Kobe Bryant  is a Strong MVP candidate\n"
     ]
    }
   ],
   "source": [
    "\n",
    "for i in np.arange(2006,2018)[::-1]:\n",
    "    core_players = crop_data.loc[int(i)]\n",
    "    core_players = core_players[core_players.MP/core_players.G >= 30]\n",
    "    core_players['MVP candidacy'] = core_players['PER'].apply(mvpCandidate)\n",
    "    mvps = core_players.sort_values(\"PER\", ascending=False).reset_index()\n",
    "    print(\"******\" ,i ,\"******\")\n",
    "    print(mvps.loc[0]['Year'], \" \",mvps.loc[0]['Player'], \" is a \"+mvpCandidate(mvps.loc[0]['PER']))\n",
    "    print(mvps.loc[1]['Year'], \" \",mvps.loc[1]['Player'], \" is a \"+mvpCandidate(mvps.loc[1]['PER']) )\n",
    "    print(mvps.loc[2]['Year'], \" \",mvps.loc[2]['Player'], \" is a \"+mvpCandidate(mvps.loc[2]['PER']) )"
   ]
  },
  {
   "cell_type": "markdown",
   "metadata": {},
   "source": [
    "<img src=\"Screenshot_1.png\" width = \"600\">"
   ]
  },
  {
   "cell_type": "markdown",
   "metadata": {},
   "source": [
    "data obtained from [NBA](http://www.nba.com/history/awards/mvp)\n",
    "\n",
    "Using PER we we can see that players who are typically in the top 3 in terms of PER win the MVP award, with the exception of the guys highlighted in red."
   ]
  },
  {
   "cell_type": "markdown",
   "metadata": {},
   "source": [
    "## Conclusion\n",
    "We can see that PER is plays the large impact in the selection of the NBA's MVP. According to our findings essentially the players  contribute the most in terms of points and assists, amongst other things, tend to win the MVP. However, it will become controversial in the coming years since the NBA has now included fan voting for MVP selection"
   ]
  },
  {
   "cell_type": "markdown",
   "metadata": {},
   "source": [
    "Cleary we can see there is no apparent relatioship between 3PT shooting percentage and age"
   ]
  },
  {
   "cell_type": "markdown",
   "metadata": {},
   "source": [
    "## Big Men Can't Shoot\n",
    "<p>\n",
    "<img src=\"dwight.jpg\" width = \"600\" >\n",
    "<em>Dwight howard</em>\n",
    "</p>"
   ]
  },
  {
   "cell_type": "markdown",
   "metadata": {},
   "source": [
    "image obtained [here](http://pickandpop.net/2016/07/why-cant-they-make-a-free-throw/)\n",
    "\n",
    "It is a common notion in the NBA that the taller players typically playing either at Center or Power Forward cannot shoot the basketball. We want to investigate this.\n",
    "\n",
    "We want took look at their Free throw attempts and the 3 Point attempts, we will leave out the 2 Point attempts because it is ambiguous(because a player can make it through a lay-up or a jumpshot, and we can't really consider lay-ups as shooting)"
   ]
  },
  {
   "cell_type": "code",
   "execution_count": 103,
   "metadata": {},
   "outputs": [
    {
     "data": {
      "text/plain": [
       "array(['C', 'PF', 'PG', 'SG', 'SF', 'SG-PG', 'SF-SG', 'SG-SF', 'C-PF',\n",
       "       'PF-C', 'SF-PF', 'PG-SG', 'PF-SF', 'PG-SF', 'SG-PF', 'C-SF'],\n",
       "      dtype=object)"
      ]
     },
     "execution_count": 103,
     "metadata": {},
     "output_type": "execute_result"
    }
   ],
   "source": [
    "crop_data.Pos.unique()"
   ]
  },
  {
   "cell_type": "code",
   "execution_count": 104,
   "metadata": {},
   "outputs": [
    {
     "data": {
      "text/plain": [
       "<matplotlib.legend.Legend at 0x187df3c0160>"
      ]
     },
     "execution_count": 104,
     "metadata": {},
     "output_type": "execute_result"
    },
    {
     "data": {
      "image/png": "[encoded data removed]",
      "text/plain": [
       "<matplotlib.figure.Figure at 0x187df836b00>"
      ]
     },
     "metadata": {},
     "output_type": "display_data"
    }
   ],
   "source": [
    "#BIG MEN (Your Forwards)\n",
    "Centers = crop_data[crop_data.Pos == 'C']\n",
    "Centers = Centers.append( crop_data[crop_data.Pos == 'C-PF'])\n",
    "Centers = Centers.append( crop_data[crop_data.Pos == 'PF-C'])\n",
    "Centers = Centers.append( crop_data[crop_data.Pos == 'PF'])\n",
    "Centers = Centers[Centers.index >= 1980 ]\n",
    "Centers = Centers.groupby(Centers.index.get_level_values(0)).mean()\n",
    "\n",
    "#SMALL MEN(The Guards)\n",
    "plt.plot(Centers.index.values, Centers['FT%'].values, 'o',color='g')\n",
    "small_men = crop_data[crop_data.Pos == 'PG']\n",
    "small_men = small_men.append( crop_data[crop_data.Pos == 'PG-SG'])\n",
    "small_men = small_men.append( crop_data[crop_data.Pos == 'SG-PG'])\n",
    "small_men = small_men.append( crop_data[crop_data.Pos == 'SG'])\n",
    "\n",
    "small_men = small_men[small_men.index >= 1980 ]\n",
    "small_men = small_men.groupby(small_men.index.get_level_values(0)).mean()\n",
    "# Centers = C_by_year['FT%']\n",
    "plt.plot(small_men.index.values, small_men['FT%'].values, 'o',color='r')\n",
    "plt.legend(['big men', 'small men'],loc='best')"
   ]
  },
  {
   "cell_type": "markdown",
   "metadata": {},
   "source": [
    "Looks like over history we see that it is true, big men aren't that good free throw shooters when compared to guards..."
   ]
  },
  {
   "cell_type": "code",
   "execution_count": 105,
   "metadata": {},
   "outputs": [
    {
     "data": {
      "text/plain": [
       "<matplotlib.legend.Legend at 0x187e374c630>"
      ]
     },
     "execution_count": 105,
     "metadata": {},
     "output_type": "execute_result"
    },
    {
     "data": {
      "image/png": "[encoded data removed]",
      "text/plain": [
       "<matplotlib.figure.Figure at 0x187e382e3c8>"
      ]
     },
     "metadata": {},
     "output_type": "display_data"
    }
   ],
   "source": [
    "#BIG MEN (Your Forwards)\n",
    "\n",
    "#SMALL MEN(The Guards)\n",
    "plt.plot(Centers.index.values, Centers['3P%'].values, 'o',color='g')\n",
    "plt.plot(small_men.index.values, small_men['3P%'].values, 'o',color='r')\n",
    "plt.legend(['big men', 'small men'],loc='best')"
   ]
  },
  {
   "cell_type": "markdown",
   "metadata": {},
   "source": [
    "Looking at the 3 Point percentage over history it still shows that guards are better shooters than big men. It is interesting to see how much big men have improved over days\n",
    "\n",
    "## Conclusion\n",
    "\n",
    "If we define not being able to shoot as being worse shooters than guards, then it it true that big men can't shoot."
   ]
  },
  {
   "cell_type": "markdown",
   "metadata": {},
   "source": [
    "## Looking at a bunch of other things"
   ]
  },
  {
   "cell_type": "code",
   "execution_count": 106,
   "metadata": {},
   "outputs": [],
   "source": [
    "from scipy.stats.stats import pearsonr\n",
    "\n",
    "\n",
    "def plot_and_stats(year):\n",
    "    data = crop_data.loc[year]\n",
    "    data = data[data['3PA'] > 0]\n",
    "    data = data[data['3P'] > 0]\n",
    "    data = data[np.isfinite(data['3PA'])]\n",
    "    data = data[~data['3PA'].isnull()]\n",
    "    sg = data[data.Pos == 'SG']\n",
    "    sg = sg.groupby('Player')[['3P','3PA']].sum()\n",
    "    age = data[data.Pos == 'SG'].groupby('Player').first()['Age']\n",
    "    plt.plot(age, sg['3P']/sg['3PA'], 'o', color='blue' )\n",
    "    print(\"The correlation coefficient and statistical significance : \", pearsonr(age, sg['3P']/sg['3PA']))"
   ]
  },
  {
   "cell_type": "code",
   "execution_count": 107,
   "metadata": {},
   "outputs": [
    {
     "name": "stdout",
     "output_type": "stream",
     "text": [
      "The correlation coefficient and statistical significance :  (0.10075448279181189, 0.323576096510396)\n"
     ]
    },
    {
     "data": {
      "image/png": "[encoded data removed]",
      "text/plain": [
       "<matplotlib.figure.Figure at 0x187d9bd0a58>"
      ]
     },
     "metadata": {},
     "output_type": "display_data"
    }
   ],
   "source": [
    "plot_and_stats(2017)"
   ]
  },
  {
   "cell_type": "markdown",
   "metadata": {},
   "source": [
    "Seens like there isn't a relationship between age and shooting ability"
   ]
  },
  {
   "cell_type": "code",
   "execution_count": 108,
   "metadata": {},
   "outputs": [
    {
     "data": {
      "text/plain": [
       "[<matplotlib.lines.Line2D at 0x187e38d0b38>]"
      ]
     },
     "execution_count": 108,
     "metadata": {},
     "output_type": "execute_result"
    },
    {
     "data": {
      "image/png": "[encoded data removed]",
      "text/plain": [
       "<matplotlib.figure.Figure at 0x187dd6c9ba8>"
      ]
     },
     "metadata": {},
     "output_type": "display_data"
    }
   ],
   "source": [
    "plt.plot(df.loc[2015]['height'].values, df.loc[2015]['TRB%'], 'o',color='green')"
   ]
  },
  {
   "cell_type": "markdown",
   "metadata": {},
   "source": [
    "There seems to be a relationship seems to relationship between height and the total rebounnd percentage by players.\n",
    "Let's calculate the correlation co-eiffient to verify this. "
   ]
  },
  {
   "cell_type": "code",
   "execution_count": 109,
   "metadata": {},
   "outputs": [
    {
     "data": {
      "text/plain": [
       "(0.6064169302692384, 1.5706347683528562e-60)"
      ]
     },
     "execution_count": 109,
     "metadata": {},
     "output_type": "execute_result"
    }
   ],
   "source": [
    "df_clean = df.loc[2017][['TRB%','height']].dropna()\n",
    "df_clean = df_clean[df_clean['TRB%'] != 0]\n",
    "# df_clean = df_clean[df_clean['TRB%'] != 1]\n",
    "pearsonr(df_clean['height'].values, df_clean['TRB%'])"
   ]
  },
  {
   "cell_type": "markdown",
   "metadata": {},
   "source": [
    "As we can see there is an actual relationship between the variables, this occurence is has a very slim chance of having being produce by randomness in the data"
   ]
  },
  {
   "cell_type": "markdown",
   "metadata": {},
   "source": [
    "From the data it appears that there is no relationship between height and shooting ability"
   ]
  }
 ],
 "metadata": {
  "kernelspec": {
   "display_name": "Python 3",
   "language": "python",
   "name": "python3"
  },
  "language_info": {
   "codemirror_mode": {
    "name": "ipython",
    "version": 3
   },
   "file_extension": ".py",
   "mimetype": "text/x-python",
   "name": "python",
   "nbconvert_exporter": "python",
   "pygments_lexer": "ipython3",
   "version": "3.6.4"
  }
 },
 "nbformat": 4,
 "nbformat_minor": 2
}
